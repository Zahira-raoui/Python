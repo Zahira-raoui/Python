{
 "cells": [
  {
   "cell_type": "markdown",
   "id": "8ef46aa1",
   "metadata": {},
   "source": [
    "# La Compression de Huffman"
   ]
  },
  {
   "cell_type": "markdown",
   "id": "4617cc1e",
   "metadata": {},
   "source": [
    "1)-La fonction frequences(L) prend une liste L en entrée, crée une liste de fréquences F, puis parcourt la liste L pour générer des tuples (élément, fréquence) uniques."
   ]
  },
  {
   "cell_type": "code",
   "execution_count": 1,
   "id": "313692c3",
   "metadata": {},
   "outputs": [],
   "source": [
    "#list de frequence:\n",
    "def frequences(L):\n",
    "    F = []\n",
    "    elements_traites = []  # Liste pour stocker les elements deja traites\n",
    "    \n",
    "    for i in L:\n",
    "        if i not in elements_traites:\n",
    "            freq = L.count(i)\n",
    "            tuple_freq = (i, freq)\n",
    "            F.append(tuple_freq)#ajouter le tuple dans la list F\n",
    "            elements_traites.append(i)#ajouter element traitee dans la list elements_traites\n",
    "    \n",
    "    return F"
   ]
  },
  {
   "cell_type": "code",
   "execution_count": 2,
   "id": "168430e0",
   "metadata": {},
   "outputs": [
    {
     "name": "stdout",
     "output_type": "stream",
     "text": [
      "[(12, 3), (29, 6), (55, 1), (31, 2), (8, 4), (46, 1)]\n"
     ]
    }
   ],
   "source": [
    "l=[12,29,55,29,31,8,12,46,29,8,12,29,31,29,8,29,8]\n",
    "freq=frequences(l)\n",
    "print(freq)"
   ]
  },
  {
   "cell_type": "markdown",
   "id": "1520aae7",
   "metadata": {},
   "source": [
    "2)-Appliquer le tri par fusion sur une liste de fréquences, en triant les éléments en fonction de leur fréquence."
   ]
  },
  {
   "cell_type": "code",
   "execution_count": 3,
   "id": "6beb6a9f",
   "metadata": {},
   "outputs": [],
   "source": [
    "#tri de la list des frequences\n",
    "# on utilise le tri par fusion\n",
    "def fusion(gauche, droite):\n",
    "    resultat = [] # Initialise une liste vide pour stocker le resultat fusionne\n",
    "    i, j = 0, 0 # Initialise des indices pour parcourir les listes gauche et droite\n",
    "    \n",
    "    # Boucle tant que les indices i et j sont inférieurs à la longueur respective des listes gauche et droite\n",
    "    while i < len(gauche) and j < len(droite):\n",
    "        # Compare les éléments des listes gauche et droite basé sur la deuxième valeur de chaque élément\n",
    "        if gauche[i][1] < droite[j][1]:\n",
    "            resultat.append(gauche[i])\n",
    "            i += 1\n",
    "        else:\n",
    "            resultat.append(droite[j])\n",
    "            j += 1\n",
    "            \n",
    "    # Ajoute les éléments restants des listes gauche et droite à 'resultat'\n",
    "    resultat.extend(gauche[i:] + droite[j:])\n",
    "    return resultat\n",
    "\n",
    "def tri_fusion(F):\n",
    "    if len(F) < 2:\n",
    "        return F\n",
    "\n",
    "    milieu = len(F) // 2\n",
    "    gauche = tri_fusion(F[:milieu])# Trie récursivement la moitié gauche de la liste\n",
    "    droite = tri_fusion(F[milieu:])# Trie récursivement la moitié droite de la liste\n",
    "\n",
    "    return fusion(gauche, droite)# Fusionne les deux moitiés triées et retourne le résultat"
   ]
  },
  {
   "cell_type": "code",
   "execution_count": 4,
   "id": "d3fa1ea1",
   "metadata": {},
   "outputs": [
    {
     "name": "stdout",
     "output_type": "stream",
     "text": [
      "la list des tuples avant le tri\n",
      "[(12, 3), (29, 6), (55, 1), (31, 2), (8, 4), (46, 1)]\n",
      "\n",
      "\n",
      "la list des tuples apres le tri par fusion selon le deuxieme element\n",
      "[(46, 1), (55, 1), (31, 2), (12, 3), (8, 4), (29, 6)]\n"
     ]
    }
   ],
   "source": [
    "sorted_list = tri_fusion(freq)\n",
    "print(\"la list des tuples avant le tri\")\n",
    "print(freq)\n",
    "print(\"\\n\")\n",
    "print(\"la list des tuples apres le tri par fusion selon le deuxieme element\")\n",
    "print(sorted_list)"
   ]
  },
  {
   "cell_type": "markdown",
   "id": "2f4f55c6",
   "metadata": {},
   "source": [
    "3)-La fonction inserer(F, T) insère le tuple T dans la liste triée F de manière à maintenir l'ordre croissant basé sur la deuxième valeur de chaque tuple."
   ]
  },
  {
   "cell_type": "code",
   "execution_count": 5,
   "id": "75becddb",
   "metadata": {},
   "outputs": [],
   "source": [
    "#creation d'une arbre binaire huffman:\n",
    "#a)-insertion d'un tuple dans la list des tuples trieees\n",
    "def inserer(F,T):\n",
    "    i = 0\n",
    "    while i < len(F) and F[i][1] <= T[1]:#trouver la position exact pour ajouter le tuple\n",
    "        i += 1\n",
    "    F.insert(i,T)#inserer le tuple dans une position specifique\n",
    "    return F  "
   ]
  },
  {
   "cell_type": "markdown",
   "id": "4f9b8de1",
   "metadata": {},
   "source": [
    "4)-La fonction arbre_huffman(F) construit un arbre Huffman en fusionnant récursivement les éléments de la liste F (contenant des tuples de la forme (élément, fréquence)) jusqu'à ce qu'il ne reste qu'un seul arbre Huffman, puis retourne cet arbre. La fonction utilise la fonction inserer pour maintenir l'ordre croissant des occurrences lors de l'insertion des arbres résultants dans la liste F."
   ]
  },
  {
   "cell_type": "code",
   "execution_count": 6,
   "id": "81e97c6f",
   "metadata": {},
   "outputs": [],
   "source": [
    "#b)-arbre huffman\n",
    "def arbre_huffman(F):\n",
    "    # Tant que la liste F a plus d'un élément\n",
    "    while len(F)>1:\n",
    "        tupl1 = F.pop(0)#retirer les deux premiers tuples\n",
    "        tupl2 = F.pop(0)\n",
    "        m=tupl1[1] + tupl2[1]#la somme de d'occurence de ces deux premiers tuples retirees\n",
    "        # Construire l'arbre Huffman en fonction des types des éléments dans les tuples\n",
    "        if type(tupl1[0])==list and type(tupl2[0])!=list:\n",
    "            arbre=([m,tupl1[0],[tupl2[0],[],[]]],m)\n",
    "        elif type(tupl2[0])==list and type(tupl1[0])!=list:\n",
    "            arbre=([m,[tupl1[0],[],[]],tupl2[0]],m)\n",
    "        elif type(tupl2[0])==list and type(tupl1[0])==list:\n",
    "            arbre=([m,tupl1[0],tupl2[0]],m)\n",
    "            \n",
    "        else:\n",
    "            arbre=([m,[tupl1[0],[],[]],[tupl2[0],[],[]]],m)\n",
    "            \n",
    "        # Insérer l'arbre cree dans la liste F tout en maintenant l'ordre croissant des occurences\n",
    "        F=inserer(F,arbre)\n",
    "    return F[0][0]"
   ]
  },
  {
   "cell_type": "code",
   "execution_count": 7,
   "id": "902e5207",
   "metadata": {},
   "outputs": [
    {
     "name": "stdout",
     "output_type": "stream",
     "text": [
      "[17, [7, [12, [], []], [8, [], []]], [10, [4, [31, [], []], [2, [46, [], []], [55, [], []]]], [29, [], []]]]\n"
     ]
    }
   ],
   "source": [
    "print(arbre_huffman(sorted_list))"
   ]
  },
  {
   "cell_type": "code",
   "execution_count": 8,
   "id": "26637a4c",
   "metadata": {},
   "outputs": [],
   "source": [
    "#utilisation de ces fonctions dans la creation de dictionnaire\n",
    "def vide(a):\n",
    "    if len(a)==0:\n",
    "        return True\n",
    "    else:\n",
    "        return False\n",
    "def val(a):\n",
    "    if vide(a):\n",
    "        return None\n",
    "    else:\n",
    "        return a[0]\n",
    "def filsGauche(a):\n",
    "    if vide(a):\n",
    "        return None\n",
    "    else: \n",
    "        return a[1]\n",
    "def filsdroite(a):\n",
    "    if vide(a):\n",
    "        return None\n",
    "    else: \n",
    "        return a[2]"
   ]
  },
  {
   "cell_type": "markdown",
   "id": "c102272a",
   "metadata": {},
   "source": [
    "5)-La fonction codes_huffman(A, code, codes) construit récursivement un dictionnaire des codes de Huffman à partir d'un arbre binaire A. Elle attribue des codes binaires aux feuilles de l'arbre en utilisant la séquence code et stocke ces codes dans le dictionnaire codes. En ajoutant '0' au code pour le sous-arbre gauche et '1' pour le sous-arbre droit."
   ]
  },
  {
   "cell_type": "code",
   "execution_count": 9,
   "id": "e5061754",
   "metadata": {},
   "outputs": [],
   "source": [
    "#construire dictionnaire des codes de huffman\n",
    "def codes_huffman(A,code,codes):\n",
    "    noeud = val(A)\n",
    "    gauche =filsGauche(A)\n",
    "    droite = filsdroite(A)\n",
    "    \n",
    "    if vide(A):\n",
    "        return None\n",
    "    if vide(gauche) and vide(droite):  \n",
    "        codes[noeud] = code #si les fils droites et gauches sont vides donc on a une feuille , donc afficher la resultat dans le dictionnaire\n",
    "    else:\n",
    "        if len(gauche) > 0:\n",
    "            codes_huffman(gauche, code + '0', codes)#fonction recursive\n",
    "        if len(droite) > 0:\n",
    "            codes_huffman(droite, code + '1', codes)#fonction recursive\n",
    "\n",
    "    return codes"
   ]
  },
  {
   "cell_type": "code",
   "execution_count": 10,
   "id": "62f09d78",
   "metadata": {},
   "outputs": [
    {
     "name": "stdout",
     "output_type": "stream",
     "text": [
      "{12: '00', 8: '01', 31: '100', 46: '1010', 55: '1011', 29: '11'}\n"
     ]
    }
   ],
   "source": [
    "code=\"\"\n",
    "codes={}\n",
    "codage_huffman=codes_huffman(arbre_huffman(sorted_list),code,codes)\n",
    "print(codage_huffman)"
   ]
  },
  {
   "cell_type": "markdown",
   "id": "fa95952b",
   "metadata": {},
   "source": [
    "6)-La fonction compresse(L, codesH) compresse une liste d'entiers L en remplaçant chaque entier par son code binaire Huffman correspondant à partir du dictionnaire codesH, puis concatène ces codes pour former une seule chaîne binaire."
   ]
  },
  {
   "cell_type": "code",
   "execution_count": 11,
   "id": "1babd1b2",
   "metadata": {},
   "outputs": [],
   "source": [
    "#compression de la list des entiers : \n",
    "def compresse(L, codesH):\n",
    "    resultat = \"\" #creer une liste vide\n",
    "\n",
    "    for i in L:\n",
    "        resultat+= codesH[i]# Concatener le code binaire Huffman correspondant à l'element de la liste l\n",
    "\n",
    "    return resultat"
   ]
  },
  {
   "cell_type": "code",
   "execution_count": 12,
   "id": "19d7c95e",
   "metadata": {},
   "outputs": [
    {
     "name": "stdout",
     "output_type": "stream",
     "text": [
      "0011101011100010010111101001110011011101\n"
     ]
    }
   ],
   "source": [
    "# Exemple d'utilisation\n",
    "L = [12, 29, 46, 29, 31, 8, 12, 55, 29, 8, 12, 29, 31, 29, 8, 29, 8]\n",
    "resultat = compresse(L, codage_huffman)\n",
    "print(resultat)"
   ]
  },
  {
   "cell_type": "markdown",
   "id": "a34c1b00",
   "metadata": {},
   "source": [
    "7)-La fonction decompresse(codesH, B) décompresse une chaîne de caractères binaires B en utilisant le dictionnaire codesH qui associe des codes binaires à des entiers. Elle parcourt la chaîne binaire, construit progressivement un code temporaire jusqu'à ce qu'elle trouve une correspondance dans le dictionnaire, puis ajoute l'entier correspondant à la liste résultante resultat_decompresse."
   ]
  },
  {
   "cell_type": "code",
   "execution_count": 13,
   "id": "f14352c3",
   "metadata": {},
   "outputs": [],
   "source": [
    "#decompression de la chaine de caractere binaire\n",
    "def decompresse(codesH, B):\n",
    "    resultat_decompresse = []  # Initialiser la liste pour stocker les entiers decompresses\n",
    "    code_temporaire = \"\"  # Initialiser une chaîne temporaire pour stocker les bits en cours de traitement\n",
    "    inverse_codesH = {v: k for k, v in codesH.items()}  # Inverser les clés et les valeurs pour etre facile a acceder aux cle de la dictionnaire\n",
    "    for i in B:\n",
    "        code_temporaire += i  # Ajouter le bit à la chaîne temporaire\n",
    "        #chercher le code temporaire obtenu dans le dictionnaire\n",
    "        if code_temporaire in inverse_codesH:\n",
    "            # Ajouter l'entier correspondant à la liste resultat_decompresse\n",
    "            resultat_decompresse.append(inverse_codesH[code_temporaire])\n",
    "            code_temporaire = \"\"  # Réinitialiser la chaîne temporaire \n",
    "\n",
    "    return resultat_decompresse"
   ]
  },
  {
   "cell_type": "code",
   "execution_count": 14,
   "id": "a40c396a",
   "metadata": {},
   "outputs": [
    {
     "data": {
      "text/plain": [
       "[12, 29, 46, 29, 31, 8, 12, 55, 29, 8, 12, 29, 31, 29, 8, 29, 8]"
      ]
     },
     "execution_count": 14,
     "metadata": {},
     "output_type": "execute_result"
    }
   ],
   "source": [
    "decompresse(codage_huffman, resultat)"
   ]
  },
  {
   "cell_type": "code",
   "execution_count": null,
   "id": "466701b6",
   "metadata": {},
   "outputs": [],
   "source": []
  },
  {
   "cell_type": "code",
   "execution_count": null,
   "id": "03b1b825",
   "metadata": {},
   "outputs": [],
   "source": []
  },
  {
   "cell_type": "code",
   "execution_count": null,
   "id": "0d91b355",
   "metadata": {},
   "outputs": [],
   "source": []
  },
  {
   "cell_type": "code",
   "execution_count": null,
   "id": "1aa09552",
   "metadata": {},
   "outputs": [],
   "source": []
  }
 ],
 "metadata": {
  "kernelspec": {
   "display_name": "Python 3 (ipykernel)",
   "language": "python",
   "name": "python3"
  },
  "language_info": {
   "codemirror_mode": {
    "name": "ipython",
    "version": 3
   },
   "file_extension": ".py",
   "mimetype": "text/x-python",
   "name": "python",
   "nbconvert_exporter": "python",
   "pygments_lexer": "ipython3",
   "version": "3.11.5"
  }
 },
 "nbformat": 4,
 "nbformat_minor": 5
}
