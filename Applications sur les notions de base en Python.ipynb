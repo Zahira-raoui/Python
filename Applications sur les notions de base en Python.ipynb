{
 "cells": [
  {
   "cell_type": "markdown",
   "id": "c882bde3",
   "metadata": {},
   "source": [
    "# Série 1 "
   ]
  },
  {
   "cell_type": "markdown",
   "id": "df5f1d3d",
   "metadata": {},
   "source": [
    "# exercice 1:"
   ]
  },
  {
   "cell_type": "markdown",
   "id": "23a0d2a5",
   "metadata": {},
   "source": [
    "# les nombres impairs inferieurs à n:"
   ]
  },
  {
   "cell_type": "code",
   "execution_count": 14,
   "id": "119370f6",
   "metadata": {},
   "outputs": [
    {
     "name": "stdout",
     "output_type": "stream",
     "text": [
      "donner une valeur:5\n",
      "les nombres impairs inferieurs a 5 sont: 1\n",
      "les nombres impairs inferieurs a 5 sont: 3\n",
      "les nombres impairs inferieurs a 5 sont: 5\n"
     ]
    }
   ],
   "source": [
    "#1\n",
    "n=int(input(\"donner une valeur:\"))\n",
    "for i in range(1,n+1):\n",
    "    if i%2!=0:\n",
    "        print(\"les nombres impairs inferieurs a\",n,\"sont:\",i)"
   ]
  },
  {
   "cell_type": "markdown",
   "id": "cdc6d1c1",
   "metadata": {},
   "source": [
    "# carre parfait:"
   ]
  },
  {
   "cell_type": "code",
   "execution_count": 16,
   "id": "26467d81",
   "metadata": {},
   "outputs": [
    {
     "name": "stdout",
     "output_type": "stream",
     "text": [
      "donner une valeur:4\n",
      " 4 est carre parfait\n"
     ]
    }
   ],
   "source": [
    "#2\n",
    "n=int(input(\"donner une valeur:\"))\n",
    "cmp=0\n",
    "for i in range(1,n):\n",
    "      if i**2==n:\n",
    "        cmp=1\n",
    "if cmp==1:\n",
    "    print(\"\",n,\"est carre parfait\")\n",
    "else:\n",
    "    print(\"\",n,\"non carre parfait\")"
   ]
  },
  {
   "cell_type": "markdown",
   "id": "b8dd6600",
   "metadata": {},
   "source": [
    "# l'approximation de leibniz"
   ]
  },
  {
   "cell_type": "code",
   "execution_count": 9,
   "id": "feef9688",
   "metadata": {},
   "outputs": [
    {
     "name": "stdout",
     "output_type": "stream",
     "text": [
      "donner le nombre des iterations:1000\n",
      "approximation de leibniz pour approcher la valeur de π est 3.140592653839794\n"
     ]
    }
   ],
   "source": [
    "#3\n",
    "n=int(input(\"donner le nombre des iterations:\"))\n",
    "s=0\n",
    "for i in range(n):\n",
    "    s=s+1/(-1)**i/(2*i+1)\n",
    "k=4*s\n",
    "print(\"approximation de leibniz pour approcher la valeur de π est\",k)"
   ]
  },
  {
   "cell_type": "markdown",
   "id": "4c71c475",
   "metadata": {},
   "source": [
    "# les deux faces de dès"
   ]
  },
  {
   "cell_type": "code",
   "execution_count": 10,
   "id": "10a24ee3",
   "metadata": {},
   "outputs": [
    {
     "name": "stdout",
     "output_type": "stream",
     "text": [
      "le premier de :\n",
      "⚫    ⚫\n",
      "⚫    ⚫\n",
      "⚫    ⚫\n",
      "le deuxieme de :\n",
      "    ⚫\n",
      "       \n",
      "⚫    \n"
     ]
    }
   ],
   "source": [
    "#4\n",
    "import random\n",
    "a=random.randrange(1,7)\n",
    "b=random.randrange(1,7)\n",
    "print(\"le premier de :\")\n",
    "if a==1:\n",
    "    print(\"     \")\n",
    "    print(\"  ⚫ \")\n",
    "    print(\"     \")\n",
    "elif a==2:\n",
    "    print(\"    ⚫\")\n",
    "    print(\"       \")\n",
    "    print(\"⚫    \")\n",
    "elif a==3:\n",
    "    print(\"    ⚫\")\n",
    "    print(\"  ⚫  \")\n",
    "    print(\"⚫    \")\n",
    "elif a==4:\n",
    "    print(\"⚫   ⚫\")\n",
    "    print(\"        \")\n",
    "    print(\"⚫   ⚫\")\n",
    "elif a==5:\n",
    "    print(\"⚫   ⚫\")\n",
    "    print(\"   ⚫   \")\n",
    "    print(\"⚫   ⚫\")\n",
    "elif a==6:\n",
    "    print(\"⚫    ⚫\")\n",
    "    print(\"⚫    ⚫\")\n",
    "    print(\"⚫    ⚫\")\n",
    "print(\"le deuxieme de :\")\n",
    "if b==1:\n",
    "    print(\"      \")\n",
    "    print(\"  ⚫  \")\n",
    "    print(\"      \")\n",
    "elif b==2:\n",
    "    print(\"    ⚫\")\n",
    "    print(\"       \")\n",
    "    print(\"⚫    \")\n",
    "elif b==3:\n",
    "    print(\"    ⚫\")\n",
    "    print(\"  ⚫  \")\n",
    "    print(\"⚫    \")\n",
    "elif b==4:\n",
    "    print(\"⚫   ⚫\")\n",
    "    print(\"        \")\n",
    "    print(\"⚫   ⚫\")\n",
    "elif b==5:\n",
    "    print(\"⚫   ⚫\")\n",
    "    print(\"   ⚫   \")\n",
    "    print(\"⚫   ⚫\")\n",
    "elif b==6:\n",
    "    print(\"⚫    ⚫\")\n",
    "    print(\"⚫    ⚫\")\n",
    "    print(\"⚫    ⚫\")"
   ]
  },
  {
   "cell_type": "markdown",
   "id": "1fa981e5",
   "metadata": {},
   "source": [
    "# afficher tous les entiers positifs de trois chiffres"
   ]
  },
  {
   "cell_type": "code",
   "execution_count": 5,
   "id": "4ec2f52d",
   "metadata": {},
   "outputs": [
    {
     "name": "stdout",
     "output_type": "stream",
     "text": [
      "100\n",
      "101\n",
      "102\n",
      "103\n",
      "104\n",
      "105\n",
      "106\n",
      "107\n",
      "108\n",
      "109\n",
      "110\n",
      "120\n",
      "123\n",
      "130\n",
      "132\n",
      "138\n",
      "140\n",
      "145\n",
      "150\n",
      "154\n",
      "159\n",
      "160\n",
      "167\n",
      "170\n",
      "176\n",
      "180\n",
      "183\n",
      "189\n",
      "190\n",
      "195\n",
      "198\n",
      "200\n",
      "201\n",
      "202\n",
      "203\n",
      "204\n",
      "205\n",
      "206\n",
      "207\n",
      "208\n",
      "209\n",
      "210\n",
      "213\n",
      "220\n",
      "224\n",
      "230\n",
      "231\n",
      "235\n",
      "240\n",
      "242\n",
      "246\n",
      "250\n",
      "253\n",
      "257\n",
      "260\n",
      "264\n",
      "268\n",
      "270\n",
      "275\n",
      "279\n",
      "280\n",
      "286\n",
      "290\n",
      "297\n",
      "300\n",
      "301\n",
      "302\n",
      "303\n",
      "304\n",
      "305\n",
      "306\n",
      "307\n",
      "308\n",
      "309\n",
      "310\n",
      "312\n",
      "318\n",
      "320\n",
      "321\n",
      "325\n",
      "330\n",
      "333\n",
      "340\n",
      "345\n",
      "347\n",
      "350\n",
      "352\n",
      "354\n",
      "357\n",
      "360\n",
      "369\n",
      "370\n",
      "374\n",
      "375\n",
      "380\n",
      "381\n",
      "390\n",
      "396\n",
      "400\n",
      "401\n",
      "402\n",
      "403\n",
      "404\n",
      "405\n",
      "406\n",
      "407\n",
      "408\n",
      "409\n",
      "410\n",
      "415\n",
      "420\n",
      "422\n",
      "426\n",
      "430\n",
      "435\n",
      "437\n",
      "440\n",
      "448\n",
      "450\n",
      "451\n",
      "453\n",
      "456\n",
      "459\n",
      "460\n",
      "462\n",
      "465\n",
      "466\n",
      "470\n",
      "473\n",
      "480\n",
      "484\n",
      "490\n",
      "495\n",
      "500\n",
      "501\n",
      "502\n",
      "503\n",
      "504\n",
      "505\n",
      "506\n",
      "507\n",
      "508\n",
      "509\n",
      "510\n",
      "514\n",
      "519\n",
      "520\n",
      "523\n",
      "527\n",
      "530\n",
      "532\n",
      "534\n",
      "537\n",
      "540\n",
      "541\n",
      "543\n",
      "546\n",
      "549\n",
      "550\n",
      "560\n",
      "564\n",
      "570\n",
      "572\n",
      "573\n",
      "578\n",
      "579\n",
      "580\n",
      "587\n",
      "590\n",
      "591\n",
      "594\n",
      "597\n",
      "600\n",
      "601\n",
      "602\n",
      "603\n",
      "604\n",
      "605\n",
      "606\n",
      "607\n",
      "608\n",
      "609\n",
      "610\n",
      "617\n",
      "620\n",
      "624\n",
      "628\n",
      "630\n",
      "639\n",
      "640\n",
      "642\n",
      "645\n",
      "646\n",
      "650\n",
      "654\n",
      "660\n",
      "664\n",
      "666\n",
      "670\n",
      "671\n",
      "678\n",
      "680\n",
      "682\n",
      "687\n",
      "690\n",
      "693\n",
      "700\n",
      "701\n",
      "702\n",
      "703\n",
      "704\n",
      "705\n",
      "706\n",
      "707\n",
      "708\n",
      "709\n",
      "710\n",
      "716\n",
      "720\n",
      "725\n",
      "729\n",
      "730\n",
      "734\n",
      "735\n",
      "740\n",
      "743\n",
      "750\n",
      "752\n",
      "753\n",
      "758\n",
      "759\n",
      "760\n",
      "761\n",
      "768\n",
      "770\n",
      "780\n",
      "785\n",
      "786\n",
      "789\n",
      "790\n",
      "792\n",
      "795\n",
      "798\n",
      "800\n",
      "801\n",
      "802\n",
      "803\n",
      "804\n",
      "805\n",
      "806\n",
      "807\n",
      "808\n",
      "809\n",
      "810\n",
      "813\n",
      "819\n",
      "820\n",
      "826\n",
      "830\n",
      "831\n",
      "840\n",
      "844\n",
      "850\n",
      "857\n",
      "860\n",
      "862\n",
      "867\n",
      "870\n",
      "875\n",
      "876\n",
      "879\n",
      "880\n",
      "890\n",
      "891\n",
      "897\n",
      "900\n",
      "901\n",
      "902\n",
      "903\n",
      "904\n",
      "905\n",
      "906\n",
      "907\n",
      "908\n",
      "909\n",
      "910\n",
      "915\n",
      "918\n",
      "920\n",
      "927\n",
      "930\n",
      "936\n",
      "940\n",
      "945\n",
      "950\n",
      "951\n",
      "954\n",
      "957\n",
      "960\n",
      "963\n",
      "970\n",
      "972\n",
      "975\n",
      "978\n",
      "980\n",
      "981\n",
      "987\n",
      "990\n",
      "999\n"
     ]
    }
   ],
   "source": [
    "#5\n",
    "for cdu in range(100,1000):\n",
    "    ch=str(cdu)\n",
    "    s=int(ch[0])+int(ch[1])+int(ch[2])\n",
    "    p=int(ch[0])*int(ch[1])*int(ch[2])\n",
    "    if p%s==0:\n",
    "        print(cdu)\n"
   ]
  },
  {
   "cell_type": "markdown",
   "id": "882357e0",
   "metadata": {},
   "source": [
    "# nombre premier circulaire"
   ]
  },
  {
   "cell_type": "code",
   "execution_count": 52,
   "id": "73563eb5",
   "metadata": {},
   "outputs": [
    {
     "name": "stdout",
     "output_type": "stream",
     "text": [
      " 719 est circulaire\n"
     ]
    }
   ],
   "source": [
    "#6\n",
    "def premier(n):   #pour montrer un nombre est premier\n",
    "    cmp=0\n",
    "    for i in range(2,n):\n",
    "        if n%i==0:\n",
    "            cmp=1\n",
    "    return cmp\n",
    "def circulaire(n):\n",
    "    if premier(n)==0:\n",
    "        ch=str(n)\n",
    "        a=int(ch[2]+ch[0]+ch[1])\n",
    "        b=int(ch[1]+ch[2]+ch[0])\n",
    "        if premier(a)==0 and premier(b)==0:\n",
    "            print(\"\",n,\"est circulaire\")\n",
    "        else:\n",
    "            print(\"\",n,\"non ciculaire\")  \n",
    "    else:\n",
    "        print(\"donner un nombre premier\")\n",
    "\n",
    "circulaire(719)  "
   ]
  },
  {
   "cell_type": "markdown",
   "id": "acc2d0ac",
   "metadata": {},
   "source": [
    "# le mot le plus long dans une chaine de caractere"
   ]
  },
  {
   "cell_type": "code",
   "execution_count": 27,
   "id": "7e88a321",
   "metadata": {},
   "outputs": [
    {
     "name": "stdout",
     "output_type": "stream",
     "text": [
      "le mot le plus long est: licence\n"
     ]
    }
   ],
   "source": [
    "#7\n",
    "n=\"licence irm\"\n",
    "list=n.split()\n",
    "s=l[0]\n",
    "for i in list:\n",
    "    if len(i)>len(s):\n",
    "          s=i\n",
    "print(\"le mot le plus long est:\",s)"
   ]
  },
  {
   "cell_type": "markdown",
   "id": "450522c8",
   "metadata": {},
   "source": [
    "# le nombre d'occurrences de chaque caractere "
   ]
  },
  {
   "cell_type": "code",
   "execution_count": 1,
   "id": "1ab793c2",
   "metadata": {},
   "outputs": [
    {
     "name": "stdout",
     "output_type": "stream",
     "text": [
      "{'l': 1, 'i': 2, 'c': 2, 'e': 2, 'n': 1, ' ': 1, 'r': 1, 'm': 1}\n"
     ]
    }
   ],
   "source": [
    "#8\n",
    "n=\"licence irm\"\n",
    "d={}\n",
    "for i in n:\n",
    "    d[i]=n.count(i)\n",
    "print(d)"
   ]
  },
  {
   "cell_type": "markdown",
   "id": "05404ac4",
   "metadata": {},
   "source": [
    "# exercice2:"
   ]
  },
  {
   "cell_type": "markdown",
   "id": "24e3a948",
   "metadata": {},
   "source": [
    "# liste des notes au dessus de la moyenne"
   ]
  },
  {
   "cell_type": "code",
   "execution_count": 29,
   "id": "65f49e6e",
   "metadata": {},
   "outputs": [
    {
     "name": "stdout",
     "output_type": "stream",
     "text": [
      "[12, 14, 18, 13, 15, 14, 16]\n"
     ]
    }
   ],
   "source": [
    "#1\n",
    "notes=[12,4,14,11,18,13,7,10,5,9,15,8,14,16]\n",
    "m=sum(notes)/len(notes)\n",
    "list=[]\n",
    "for i in notes:\n",
    "    if i>=m:\n",
    "        list.append(i)\n",
    "print(list)\n",
    "        "
   ]
  },
  {
   "cell_type": "markdown",
   "id": "28f6aa1d",
   "metadata": {},
   "source": [
    "# la liste des mots communs entre deux chaines"
   ]
  },
  {
   "cell_type": "code",
   "execution_count": 2,
   "id": "59200b74",
   "metadata": {},
   "outputs": [
    {
     "name": "stdout",
     "output_type": "stream",
     "text": [
      "['licence']\n"
     ]
    }
   ],
   "source": [
    "#2\n",
    "ch1=\"licence irm\"\n",
    "ch2=\"licence get\"\n",
    "list1=ch1.split()\n",
    "list2=ch2.split()\n",
    "l=[]\n",
    "for i in list1:\n",
    "    for j in list2:\n",
    "        if i==j:\n",
    "            l.append(i)\n",
    "print(l)"
   ]
  },
  {
   "cell_type": "markdown",
   "id": "d5ffb338",
   "metadata": {},
   "source": [
    "# dictionnaire"
   ]
  },
  {
   "cell_type": "code",
   "execution_count": null,
   "id": "8329e142",
   "metadata": {},
   "outputs": [],
   "source": [
    "#3\n",
    "#a\n",
    "info_conf={\"aboutajdine IssaM\":\"about_ism@yahoo.fr\",\"ghoulam amine\":\"ghoulam.amine@univm8.dz\",\"eric comon\":\"eric.comon@epfl.tn\"}\n",
    "lst1=[]\n",
    "lst2=[]\n",
    "lst1.extend(info_conf.keys())\n",
    "lst2.extend(info_conf.values())\n",
    "print(\"la liste des cles :\",lst1)\n",
    "print(\"la liste des valeurs :\",lst2)\n",
    "print(\"les paires de cles et valeurs:\",info_conf)"
   ]
  },
  {
   "cell_type": "code",
   "execution_count": 32,
   "id": "10938e6b",
   "metadata": {},
   "outputs": [
    {
     "name": "stdout",
     "output_type": "stream",
     "text": [
      "{'aboutajdine IssaM': 'about_ism@yahoo.fr', 'ghoulam amine': 'ghoulam.amine@univm8.dz', 'eric comon': 'eric.comon@epfl.tn', 'zahira machraoui': 'zahiramachraoui@gmail.com'}\n"
     ]
    }
   ],
   "source": [
    "#b\n",
    "info_conf={\"aboutajdine IssaM\":\"about_ism@yahoo.fr\",\"ghoulam amine\":\"ghoulam.amine@univm8.dz\",\"eric comon\":\"eric.comon@epfl.tn\"}\n",
    "info_conf['zahira machraoui']='zahiramachraoui@gmail.com'\n",
    "print(info_conf)"
   ]
  },
  {
   "cell_type": "code",
   "execution_count": 33,
   "id": "cff0a0ae",
   "metadata": {},
   "outputs": [
    {
     "name": "stdout",
     "output_type": "stream",
     "text": [
      "{'aboutajdine IssaM': 'aboutajdineIssaM@yahoo.fr', 'ghoulam amine': 'ghoulam.amine@univm8.dz', 'eric comon': 'eric.comon@epfl.tn', 'amina mach': 'aminamach@yahoo.fr'}\n"
     ]
    }
   ],
   "source": [
    "#c\n",
    "info_conf={\"aboutajdine IssaM\":\"about_ism@yahoo.fr\",\"ghoulam amine\":\"ghoulam.amine@univm8.dz\",\"eric comon\":\"eric.comon@epfl.tn\"}\n",
    "info_conf['aboutajdine IssaM']='aboutajdineIssaM@yahoo.fr'\n",
    "info_conf['amina mach']='aminamach@yahoo.fr'\n",
    "print(info_conf)"
   ]
  },
  {
   "cell_type": "code",
   "execution_count": 34,
   "id": "bfe7d291",
   "metadata": {},
   "outputs": [
    {
     "name": "stdout",
     "output_type": "stream",
     "text": [
      "{'aboutajdine IssaM': 'about_ism@yahoo.fr', 'eric comon': 'eric.comon@epfl.tn'}\n"
     ]
    }
   ],
   "source": [
    "#d\n",
    "info_conf={\"aboutajdine IssaM\":\"about_ism@yahoo.fr\",\"ghoulam amine\":\"ghoulam.amine@univm8.dz\",\"eric comon\":\"eric.comon@epfl.tn\"}\n",
    "del(info_conf['ghoulam amine'])\n",
    "print(info_conf)"
   ]
  },
  {
   "cell_type": "markdown",
   "id": "c6fe4ff0",
   "metadata": {},
   "source": [
    "# cryptage et decryptage"
   ]
  },
  {
   "cell_type": "code",
   "execution_count": 22,
   "id": "17f25030",
   "metadata": {},
   "outputs": [
    {
     "name": "stdout",
     "output_type": "stream",
     "text": [
      "{'!': '¡', '\"': '¢', '#': '£', '$': '¤', '%': '¥', '&': '¦', \"'\": '§', '(': '¨', ')': '©', '*': 'ª', '+': '«', ',': '¬', '-': '\\xad', '.': '®', '/': '¯', '0': '°', '1': '±', '2': '²', '3': '³', '4': '´', '5': 'µ', '6': '¶', '7': '·', '8': '¸', '9': '¹', ':': 'º', ';': '»', '<': '¼', '=': '½', '>': '¾', '?': '¿', '@': 'À', 'A': 'Á', 'B': 'Â', 'C': 'Ã', 'D': 'Ä', 'E': 'Å', 'F': 'Æ', 'G': 'Ç', 'H': 'È', 'I': 'É', 'J': 'Ê', 'K': 'Ë', 'L': 'Ì', 'M': 'Í', 'N': 'Î', 'O': 'Ï', 'P': 'Ð', 'Q': 'Ñ', 'R': 'Ò', 'S': 'Ó', 'T': 'Ô', 'U': 'Õ', 'V': 'Ö', 'W': '×', 'X': 'Ø', 'Y': 'Ù', 'Z': 'Ú', '[': 'Û', ']': 'Ü', '^': 'Ý', '_': 'Þ', '`': 'ß', 'a': 'à', 'b': 'á', 'c': 'â', 'd': 'ã', 'e': 'ä', 'f': 'å', 'g': 'æ', 'h': 'ç', 'i': 'è', 'j': 'é', 'k': 'ê', 'l': 'ë', 'm': 'ì', 'n': 'í', 'o': 'î', 'p': 'ï', 'q': 'ð', 'r': 'ñ', 's': 'ò', 't': 'ó', 'u': 'ô', 'v': 'õ', 'w': 'ö', 'x': '÷', 'y': 'ø', 'z': 'ù', '{': 'ú', '|': 'û', '}': 'ü', '~': 'ý'}\n",
      "Êäì§àïïäëëäùàçèñàäóé§àè²°àíò\n"
     ]
    }
   ],
   "source": [
    "#4\n",
    "#cryptage\n",
    "lettre=[chr(i) for i in range(33,127) if i!=92]\n",
    "cripte=[chr(i) for i in range(161,256) if i!=137]\n",
    "dictionnaire={}\n",
    "for i in lettre:\n",
    "    dictionnaire[i]=cripte[lettre.index(i)] \n",
    "print(dictionnaire)   #construire le dictionnaire\n",
    "file=open('zahira.txt','r')\n",
    "file1=open('tp1.txt','w')\n",
    "for j in file.read():\n",
    "    if j in dictionnaire:\n",
    "        file1.write(dictionnaire[j])\n",
    "file1.close()\n",
    "file1=open('tp1.txt','r')\n",
    "print(file1.read())\n",
    "file1.close()"
   ]
  },
  {
   "cell_type": "code",
   "execution_count": 23,
   "id": "37769d0a",
   "metadata": {},
   "outputs": [],
   "source": [
    "# decryptage\n",
    "file1=open(\"tp1.txt\",\"r\")   \n",
    "file2=open(\"tp1_decrypte.txt\",\"w\")\n",
    "list1=[i for i in dictionnaire.keys()]\n",
    "list2=[i for i in dictionnaire.values()]\n",
    "for i in file1.read():\n",
    "    if i in list2:\n",
    "        file2.write(list1[list2.index(i)])\n",
    "file2.close()"
   ]
  },
  {
   "cell_type": "markdown",
   "id": "81d09ed8",
   "metadata": {},
   "source": [
    "# exercice 3:"
   ]
  },
  {
   "cell_type": "markdown",
   "id": "04feed52",
   "metadata": {},
   "source": [
    "# un nombre parfait"
   ]
  },
  {
   "cell_type": "code",
   "execution_count": 3,
   "id": "52e4ec3e",
   "metadata": {},
   "outputs": [
    {
     "data": {
      "text/plain": [
       "'true'"
      ]
     },
     "execution_count": 3,
     "metadata": {},
     "output_type": "execute_result"
    }
   ],
   "source": [
    "#1\n",
    "#a\n",
    "def check(n):\n",
    "    s=0\n",
    "    for i in range(1,n):\n",
    "        if n%i==0:\n",
    "            s=s+i\n",
    "    if s==n:\n",
    "        return \"true\"\n",
    "    else:\n",
    "        return \"false\"\n",
    "\n",
    "\n",
    "check(6)"
   ]
  },
  {
   "cell_type": "markdown",
   "id": "ce07adbd",
   "metadata": {},
   "source": [
    "# liste des nombre parfaits strictement inferieurs à m"
   ]
  },
  {
   "cell_type": "code",
   "execution_count": 4,
   "id": "93768c0c",
   "metadata": {},
   "outputs": [
    {
     "name": "stdout",
     "output_type": "stream",
     "text": [
      "[6]\n"
     ]
    }
   ],
   "source": [
    "#b\n",
    "def listperfect(m):\n",
    "    l=[]\n",
    "    for i in range(1,m):\n",
    "        if check(i)==\"true\":\n",
    "            l.append(i)\n",
    "    print(l)\n",
    "listperfect(20)"
   ]
  },
  {
   "cell_type": "markdown",
   "id": "2ac84d29",
   "metadata": {},
   "source": [
    "# liste de diviseurs d'un nombre parfait"
   ]
  },
  {
   "cell_type": "code",
   "execution_count": 5,
   "id": "14cd7e59",
   "metadata": {},
   "outputs": [
    {
     "name": "stdout",
     "output_type": "stream",
     "text": [
      "[1, 2, 4, 7, 14]\n"
     ]
    }
   ],
   "source": [
    "#c\n",
    "def verify(n):\n",
    "    l=[]\n",
    "    if check(n)==\"true\":\n",
    "        for i in range(1,n):\n",
    "            if n%i==0:\n",
    "                l.append(i)\n",
    "    print(l) \n",
    "verify(28)"
   ]
  },
  {
   "cell_type": "markdown",
   "id": "78999fa7",
   "metadata": {},
   "source": [
    "# une liste de liste des diviseurs d'un nombre parfait"
   ]
  },
  {
   "cell_type": "code",
   "execution_count": 58,
   "id": "dd844b4d",
   "metadata": {},
   "outputs": [
    {
     "name": "stdout",
     "output_type": "stream",
     "text": [
      "[[], [1], [1, 2], [1], [1, 2, 7]]\n"
     ]
    }
   ],
   "source": [
    "#d\n",
    "def listverify(list1):\n",
    "    l=[]\n",
    "    for i in list1:\n",
    "        l1=[]\n",
    "        for j in range(1,int((i+2)/2)):\n",
    "            if i%j==0:\n",
    "                l1.append(j)\n",
    "        l.append(l1)\n",
    "    return l\n",
    "list1=[1,2,4,7,14]\n",
    "z=listverify(list1)\n",
    "print(z)"
   ]
  },
  {
   "cell_type": "markdown",
   "id": "0dee8fa2",
   "metadata": {},
   "source": [
    "# module perfect"
   ]
  },
  {
   "cell_type": "code",
   "execution_count": 59,
   "id": "e0ec94c5",
   "metadata": {},
   "outputs": [],
   "source": [
    "#e\n",
    "import Perfect as per"
   ]
  },
  {
   "cell_type": "code",
   "execution_count": 60,
   "id": "526cbfb2",
   "metadata": {},
   "outputs": [
    {
     "data": {
      "text/plain": [
       "'false'"
      ]
     },
     "execution_count": 60,
     "metadata": {},
     "output_type": "execute_result"
    }
   ],
   "source": [
    "per.check(3)"
   ]
  },
  {
   "cell_type": "code",
   "execution_count": 61,
   "id": "b1723f73",
   "metadata": {},
   "outputs": [
    {
     "name": "stdout",
     "output_type": "stream",
     "text": [
      "[6]\n"
     ]
    }
   ],
   "source": [
    "per.listperfect(20)"
   ]
  },
  {
   "cell_type": "code",
   "execution_count": 62,
   "id": "e58b048a",
   "metadata": {},
   "outputs": [
    {
     "name": "stdout",
     "output_type": "stream",
     "text": [
      "[1, 2, 4, 7, 14]\n"
     ]
    }
   ],
   "source": [
    "per.verify(28)"
   ]
  },
  {
   "cell_type": "code",
   "execution_count": 63,
   "id": "ae0ca8fe",
   "metadata": {},
   "outputs": [
    {
     "data": {
      "text/plain": [
       "[[], [1], [1, 2], [1], [1, 2, 7]]"
      ]
     },
     "execution_count": 63,
     "metadata": {},
     "output_type": "execute_result"
    }
   ],
   "source": [
    "per.listverify([1,2,4,7,14])"
   ]
  },
  {
   "cell_type": "markdown",
   "id": "54a5e422",
   "metadata": {},
   "source": [
    "# dictionnaire"
   ]
  },
  {
   "cell_type": "code",
   "execution_count": 31,
   "id": "fc20ac46",
   "metadata": {},
   "outputs": [],
   "source": [
    "#2\n",
    "#a\n",
    "def dictionnaire1(n):\n",
    "    dict1={}\n",
    "    for i in range(n):\n",
    "        num_cours=input('donner le numero du cours:')\n",
    "        dict1[num_cours]=input('donner le numero du salle:')\n",
    "    return dict1"
   ]
  },
  {
   "cell_type": "code",
   "execution_count": 32,
   "id": "e735686d",
   "metadata": {},
   "outputs": [
    {
     "name": "stdout",
     "output_type": "stream",
     "text": [
      "donner le numero du cours:1\n",
      "donner le numero du salle:8\n",
      "donner le numero du cours:2\n",
      "donner le numero du salle:9\n",
      "donner le numero du cours:3\n",
      "donner le numero du salle:7\n"
     ]
    },
    {
     "data": {
      "text/plain": [
       "{'1': '8', '2': '9', '3': '7'}"
      ]
     },
     "execution_count": 32,
     "metadata": {},
     "output_type": "execute_result"
    }
   ],
   "source": [
    "dictionnaire1(3)"
   ]
  },
  {
   "cell_type": "code",
   "execution_count": 33,
   "id": "37a41927",
   "metadata": {},
   "outputs": [],
   "source": [
    "#b\n",
    "def dictionnaire2(n):\n",
    "    dict1={}\n",
    "    for i in range(n):\n",
    "            num_cours=input('donner le numero du cours:')\n",
    "            dict1[num_cours]=input('donner le nom des instructeurs :')\n",
    "    return dict1"
   ]
  },
  {
   "cell_type": "code",
   "execution_count": 34,
   "id": "493c4b93",
   "metadata": {},
   "outputs": [
    {
     "name": "stdout",
     "output_type": "stream",
     "text": [
      "donner le numero du cours:1\n",
      "donner le nom des instructeurs :amina\n",
      "donner le numero du cours:2\n",
      "donner le nom des instructeurs :omar\n",
      "donner le numero du cours:3\n",
      "donner le nom des instructeurs :majd\n"
     ]
    },
    {
     "data": {
      "text/plain": [
       "{'1': 'amina', '2': 'omar', '3': 'majd'}"
      ]
     },
     "execution_count": 34,
     "metadata": {},
     "output_type": "execute_result"
    }
   ],
   "source": [
    "dictionnaire2(3)"
   ]
  },
  {
   "cell_type": "code",
   "execution_count": 38,
   "id": "4a762b9a",
   "metadata": {},
   "outputs": [],
   "source": [
    "#c\n",
    "def dictionnaire3(n):\n",
    "    dict1={}\n",
    "    for i in range(n):\n",
    "        num_cours=input('donner le numero du cours:')\n",
    "        dict1[num_cours]=input('donner la date :')\n",
    "    return dict1"
   ]
  },
  {
   "cell_type": "code",
   "execution_count": 39,
   "id": "c6f08a98",
   "metadata": {},
   "outputs": [
    {
     "name": "stdout",
     "output_type": "stream",
     "text": [
      "donner le numero du cours:1\n",
      "donner la date :2022/11/05 9h\n",
      "donner le numero du cours:2\n",
      "donner la date :2022/11/22 9h\n",
      "donner le numero du cours:3\n",
      "donner la date :2022/11/25 9h\n"
     ]
    },
    {
     "data": {
      "text/plain": [
       "{'1': '2022/11/05 9h', '2': '2022/11/22 9h', '3': '2022/11/25 9h'}"
      ]
     },
     "execution_count": 39,
     "metadata": {},
     "output_type": "execute_result"
    }
   ],
   "source": [
    "dictionnaire3(3)"
   ]
  },
  {
   "cell_type": "code",
   "execution_count": 40,
   "id": "d91baa9f",
   "metadata": {},
   "outputs": [],
   "source": [
    "#d\n",
    "def dict_globale(n):\n",
    "    d1=dictionnaire1(3)\n",
    "    d2=dictionnaire2(3)\n",
    "    d3=dictionnaire3(3)\n",
    "    num_salle=d1[n]\n",
    "    nom_instru=d2[n]\n",
    "    date=d3[n]\n",
    "    return num_salle,nom_instru,date"
   ]
  },
  {
   "cell_type": "code",
   "execution_count": 41,
   "id": "7058ef53",
   "metadata": {},
   "outputs": [
    {
     "name": "stdout",
     "output_type": "stream",
     "text": [
      "donner le numero du cours:1\n",
      "donner le numero du salle:8\n",
      "donner le numero du cours:2\n",
      "donner le numero du salle:9\n",
      "donner le numero du cours:3\n",
      "donner le numero du salle:7\n",
      "donner le numero du cours:1\n",
      "donner le nom des instructeurs :amina\n",
      "donner le numero du cours:2\n",
      "donner le nom des instructeurs :omar\n",
      "donner le numero du cours:3\n",
      "donner le nom des instructeurs :majd\n",
      "donner le numero du cours:1\n",
      "donner la date :2022/11/05 9h\n",
      "donner le numero du cours:2\n",
      "donner la date :2022/11/22 9h\n",
      "donner le numero du cours:3\n",
      "donner la date :2022/12/05 9h\n",
      "le numero de salle est: 8\n",
      "le nom de prof : amina\n",
      "la date de reunion: 2022/11/05 9h\n"
     ]
    }
   ],
   "source": [
    "num_salle,nom_instru,date=dict_globale(\"1\")\n",
    "print(\"le numero de salle est:\",num_salle)\n",
    "print(\"le nom de prof :\",nom_instru)\n",
    "print(\"la date de reunion:\",date)"
   ]
  },
  {
   "cell_type": "markdown",
   "id": "81378382",
   "metadata": {},
   "source": [
    "# tuple de deux chaines"
   ]
  },
  {
   "cell_type": "code",
   "execution_count": 46,
   "id": "69191105",
   "metadata": {},
   "outputs": [],
   "source": [
    "#3\n",
    "def tupl():\n",
    "    tupl1=(s1,s2)\n",
    "    listtuple = []\n",
    "    for i in s1:\n",
    "        if i not in s2 and i not in listtuple:\n",
    "            listtuple.append(i)\n",
    "    return listtuple"
   ]
  },
  {
   "cell_type": "code",
   "execution_count": 47,
   "id": "8d9cee39",
   "metadata": {},
   "outputs": [
    {
     "name": "stdout",
     "output_type": "stream",
     "text": [
      "['l', 'c', 'e', 'n']\n"
     ]
    }
   ],
   "source": [
    "s1 = \"licence\" \n",
    "s2 = \"irm\"\n",
    "print(tupl())"
   ]
  },
  {
   "cell_type": "markdown",
   "id": "14729726",
   "metadata": {},
   "source": [
    "# cryptage par decalage"
   ]
  },
  {
   "cell_type": "code",
   "execution_count": 48,
   "id": "6801b0ef",
   "metadata": {},
   "outputs": [],
   "source": [
    "#4\n",
    "#a\n",
    "#b\n",
    "alphabet=['a','b','c','d','e','f','g','h','i','j','k','l','m','n','o','p','q','r','s','t','u','v','w','x','y','z']\n",
    "def position_lettre(n):\n",
    "    for i in range(26):\n",
    "        if n==alphabet[i]:\n",
    "            return i\n",
    "def cryptage(chaine,pas):\n",
    "    list=[]\n",
    "    for j in chaine:\n",
    "        i=position_lettre(j)-len(alphabet)\n",
    "        k=i+pas\n",
    "        list.append(alphabet[k])\n",
    "        s=\"\".join(list)\n",
    "    return s"
   ]
  },
  {
   "cell_type": "code",
   "execution_count": 49,
   "id": "93ae992c",
   "metadata": {},
   "outputs": [
    {
     "name": "stdout",
     "output_type": "stream",
     "text": [
      "donner une chaine de caractere:zahira\n",
      "donner le pas de decalage:2\n"
     ]
    },
    {
     "data": {
      "text/plain": [
       "'bcjktc'"
      ]
     },
     "execution_count": 49,
     "metadata": {},
     "output_type": "execute_result"
    }
   ],
   "source": [
    "chaine=input('donner une chaine de caractere:')\n",
    "pas=int(input('donner le pas de decalage:'))\n",
    "cryptage(chaine,pas)"
   ]
  },
  {
   "cell_type": "markdown",
   "id": "f990bd3f",
   "metadata": {},
   "source": [
    "# fichier texte"
   ]
  },
  {
   "cell_type": "code",
   "execution_count": 24,
   "id": "1c6cd3b2",
   "metadata": {},
   "outputs": [],
   "source": [
    "#5\n",
    "List = [\"gkthj\", \"rtho\", \"rtho\"]\n",
    "file = open(\"list.txt\",\"w\")\n",
    "for i in List:\n",
    "    file.write(i+\"\\n\")\n",
    "file.close()"
   ]
  },
  {
   "cell_type": "code",
   "execution_count": 62,
   "id": "3c44da40",
   "metadata": {},
   "outputs": [
    {
     "name": "stdout",
     "output_type": "stream",
     "text": [
      "['gkthj\\n', 'rtho\\n', 'rtho\\n']\n",
      "gkthj\n",
      "\n"
     ]
    }
   ],
   "source": [
    "#6\n",
    "file=open(\"list.txt\",\"r\")\n",
    "n= file.readlines()\n",
    "print(n)\n",
    "k=n[0]\n",
    "for i in n:\n",
    "    if len(i)>len(k):\n",
    "        k=i\n",
    "    else:\n",
    "        k=n[0]\n",
    "print(k) "
   ]
  },
  {
   "cell_type": "code",
   "execution_count": 25,
   "id": "0b279a0d",
   "metadata": {},
   "outputs": [
    {
     "name": "stdout",
     "output_type": "stream",
     "text": [
      "{'gkthj\\n': 1, 'rtho\\n': 2}\n"
     ]
    }
   ],
   "source": [
    "#7\n",
    "file=open(\"list.txt\",\"r\")\n",
    "n=file.readlines()\n",
    "h={}\n",
    "for i in n:\n",
    "        h[i]=n.count(i)\n",
    "print(h)"
   ]
  },
  {
   "cell_type": "code",
   "execution_count": 26,
   "id": "3f637013",
   "metadata": {},
   "outputs": [],
   "source": [
    "#8\n",
    "file=open(\"zahira.txt\",\"r\")\n",
    "l=[]\n",
    "for ligne in file:\n",
    "        l.append(ligne.split())\n",
    "ligne=l[0]\n",
    "ch=' '.join(l[0])\n",
    "with open('zahiraextrait.txt','w') as f:\n",
    "    f.write(ch)"
   ]
  },
  {
   "cell_type": "markdown",
   "id": "90c2d57a",
   "metadata": {},
   "source": [
    "# exercice 4:"
   ]
  },
  {
   "cell_type": "markdown",
   "id": "5ec8f9a4",
   "metadata": {},
   "source": [
    "# le nombre de caracteres majuscules"
   ]
  },
  {
   "cell_type": "code",
   "execution_count": 42,
   "id": "cd91d8f5",
   "metadata": {},
   "outputs": [
    {
     "name": "stdout",
     "output_type": "stream",
     "text": [
      "Saisir le mot de passe : zahiramachrAOUI123\n"
     ]
    }
   ],
   "source": [
    "mot_de_passe=input(\"Saisir le mot de passe : \")"
   ]
  },
  {
   "cell_type": "code",
   "execution_count": 44,
   "id": "24e72ed7",
   "metadata": {},
   "outputs": [],
   "source": [
    "#1\n",
    "def nbr_majus(mot_de_passe):\n",
    "    list_majuscule=[i for i in mot_de_passe if i.isupper()]\n",
    "    nbr=len(list_majuscule)    \n",
    "    return nbr    "
   ]
  },
  {
   "cell_type": "code",
   "execution_count": 45,
   "id": "13e45f3c",
   "metadata": {},
   "outputs": [
    {
     "data": {
      "text/plain": [
       "4"
      ]
     },
     "execution_count": 45,
     "metadata": {},
     "output_type": "execute_result"
    }
   ],
   "source": [
    "nbr_majus(mot_de_passe)"
   ]
  },
  {
   "cell_type": "markdown",
   "id": "09a3bb47",
   "metadata": {},
   "source": [
    "# le nombre de caracteres minuscules"
   ]
  },
  {
   "cell_type": "code",
   "execution_count": 46,
   "id": "dcd2d812",
   "metadata": {},
   "outputs": [],
   "source": [
    "\n",
    "def nbr_minis(mot_de_passe):\n",
    "    list_miniscule=[i for i in mot_de_passe if i.islower()]\n",
    "    nbr=len(list_miniscule)\n",
    "    return nbr   "
   ]
  },
  {
   "cell_type": "code",
   "execution_count": 47,
   "id": "b19fd8c4",
   "metadata": {},
   "outputs": [
    {
     "data": {
      "text/plain": [
       "11"
      ]
     },
     "execution_count": 47,
     "metadata": {},
     "output_type": "execute_result"
    }
   ],
   "source": [
    "nbr_minis(mot_de_passe)"
   ]
  },
  {
   "cell_type": "markdown",
   "id": "c0573e22",
   "metadata": {},
   "source": [
    "# le nombre de caracteres non alphabetiques"
   ]
  },
  {
   "cell_type": "code",
   "execution_count": 48,
   "id": "128f671c",
   "metadata": {},
   "outputs": [],
   "source": [
    "#2\n",
    "def Non_Alphab(mot_de_passe):\n",
    "    list_Non_alphab=[i for i in mot_de_passe if not i.isalpha()]\n",
    "    nbr=len(list_Non_alphab)\n",
    "    return nbr"
   ]
  },
  {
   "cell_type": "code",
   "execution_count": 49,
   "id": "132de318",
   "metadata": {},
   "outputs": [
    {
     "data": {
      "text/plain": [
       "3"
      ]
     },
     "execution_count": 49,
     "metadata": {},
     "output_type": "execute_result"
    }
   ],
   "source": [
    "Non_Alphab(mot_de_passe)"
   ]
  },
  {
   "cell_type": "markdown",
   "id": "25df4fad",
   "metadata": {},
   "source": [
    "# la longueur de la plus longue sequence de lettres majuscules"
   ]
  },
  {
   "cell_type": "code",
   "execution_count": 50,
   "id": "d17c71eb",
   "metadata": {},
   "outputs": [],
   "source": [
    "#3\n",
    "def seq_majus(mot_de_passe):\n",
    "    cmp=0\n",
    "    tmp=0\n",
    "    for i in mot_de_passe:\n",
    "        if(i.isupper()):\n",
    "            cmp=cmp+1\n",
    "        else:\n",
    "            if(tmp<cmp): \n",
    "                tmp=cmp\n",
    "                cmp=0  \n",
    "            else:\n",
    "                cmp=0\n",
    "    return tmp     "
   ]
  },
  {
   "cell_type": "code",
   "execution_count": 51,
   "id": "cd332a68",
   "metadata": {},
   "outputs": [
    {
     "data": {
      "text/plain": [
       "4"
      ]
     },
     "execution_count": 51,
     "metadata": {},
     "output_type": "execute_result"
    }
   ],
   "source": [
    "seq_majus(mot_de_passe)"
   ]
  },
  {
   "cell_type": "markdown",
   "id": "c5231e6f",
   "metadata": {},
   "source": [
    "# la longueur de la plus longue sequence de lettres minuscules"
   ]
  },
  {
   "cell_type": "code",
   "execution_count": 52,
   "id": "c4f08d1b",
   "metadata": {},
   "outputs": [],
   "source": [
    "#4\n",
    "def seq_minis(mot_de_passe):\n",
    "    cmp=0\n",
    "    tmp=0\n",
    "    for i in mot_de_passe:\n",
    "        if(i.islower()):\n",
    "            cmp=cmp+1\n",
    "        else:\n",
    "            if(tmp<cmp): \n",
    "                tmp=cmp\n",
    "                cmp=0  \n",
    "            else:\n",
    "                cmp=0\n",
    "    return tmp     "
   ]
  },
  {
   "cell_type": "code",
   "execution_count": 53,
   "id": "a1d65315",
   "metadata": {},
   "outputs": [
    {
     "data": {
      "text/plain": [
       "11"
      ]
     },
     "execution_count": 53,
     "metadata": {},
     "output_type": "execute_result"
    }
   ],
   "source": [
    "seq_minis(mot_de_passe)"
   ]
  },
  {
   "cell_type": "markdown",
   "id": "2745f781",
   "metadata": {},
   "source": [
    "# le score d'un mot de passe"
   ]
  },
  {
   "cell_type": "code",
   "execution_count": 54,
   "id": "3cf02f3a",
   "metadata": {},
   "outputs": [],
   "source": [
    "#5\n",
    "def score(mot_de_passe):\n",
    "    s1=len(mot_de_passe)*4+(len(mot_de_passe)-nbr_majus(mot_de_passe))*2+(len(mot_de_passe)-nbr_minis(mot_de_passe))*3+Non_Alphab(mot_de_passe)*5\n",
    "    s2=seq_minis(mot_de_passe)*2+seq_majus(mot_de_passe)*3\n",
    "    s=s1-s2\n",
    "    return s"
   ]
  },
  {
   "cell_type": "code",
   "execution_count": 55,
   "id": "ffeaf4cc",
   "metadata": {},
   "outputs": [
    {
     "data": {
      "text/plain": [
       "102"
      ]
     },
     "execution_count": 55,
     "metadata": {},
     "output_type": "execute_result"
    }
   ],
   "source": [
    "score(mot_de_passe)"
   ]
  },
  {
   "cell_type": "markdown",
   "id": "77f59e7b",
   "metadata": {},
   "source": [
    "# la force d'un mot de passe"
   ]
  },
  {
   "cell_type": "code",
   "execution_count": 57,
   "id": "ff3ad856",
   "metadata": {},
   "outputs": [],
   "source": [
    "#6\n",
    "def force():\n",
    "    if score(mot_de_passe)<20:\n",
    "        print(\"mot de passe est tres faible\")\n",
    "    elif score(mot_de_passe)<40 and score(mot_de_passe)>=20:\n",
    "        print(\"mot de passe est faible\")\n",
    "    elif score(mot_de_passe)<80 and score(mot_de_passe)>=40:\n",
    "        print(\"mot de passe est fort\")\n",
    "    elif score(mot_de_passe)>=80:\n",
    "        print(\"mot de passe est tres fort\")"
   ]
  },
  {
   "cell_type": "code",
   "execution_count": 58,
   "id": "3499f8eb",
   "metadata": {},
   "outputs": [
    {
     "name": "stdout",
     "output_type": "stream",
     "text": [
      "mot de passe est tres fort\n"
     ]
    }
   ],
   "source": [
    "force()"
   ]
  }
 ],
 "metadata": {
  "kernelspec": {
   "display_name": "Python 3 (ipykernel)",
   "language": "python",
   "name": "python3"
  },
  "language_info": {
   "codemirror_mode": {
    "name": "ipython",
    "version": 3
   },
   "file_extension": ".py",
   "mimetype": "text/x-python",
   "name": "python",
   "nbconvert_exporter": "python",
   "pygments_lexer": "ipython3",
   "version": "3.9.12"
  }
 },
 "nbformat": 4,
 "nbformat_minor": 5
}
