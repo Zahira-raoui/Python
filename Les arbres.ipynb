{
 "cells": [
  {
   "cell_type": "markdown",
   "id": "baaf59e7",
   "metadata": {},
   "source": [
    "# TD2 ARBRE"
   ]
  },
  {
   "cell_type": "code",
   "execution_count": 1,
   "id": "2f3992da",
   "metadata": {},
   "outputs": [],
   "source": [
    "#les fonction necessaires\n",
    "def vide(arbre):\n",
    "    if len(arbre)==0:\n",
    "        return True\n",
    "    else: \n",
    "        return False\n",
    "def val(arbre):\n",
    "    if not vide(arbre):\n",
    "        return arbre[0]\n",
    "    else:\n",
    "        return None\n",
    "def filsGauche(arbre):\n",
    "    if not vide(arbre):\n",
    "        return arbre[1]\n",
    "    else:\n",
    "        return None\n",
    "def filsDroite(arbre):\n",
    "     if not vide(arbre):\n",
    "        return arbre[2]\n",
    "     else:\n",
    "        return None\n",
    "def Estfeuile(arbre):\n",
    "    if vide(arbre):\n",
    "        return false\n",
    "    else:\n",
    "        return vide(filsDroite(arbre)) and vide(filsGauche(arbre))"
   ]
  },
  {
   "cell_type": "code",
   "execution_count": 2,
   "id": "27332ba4",
   "metadata": {},
   "outputs": [],
   "source": [
    "#ex1\n",
    "def Hauteur(arbre):\n",
    "    if vide(arbre) or Estfeuile(arbre):\n",
    "        return 0\n",
    "    else:\n",
    "        return 1+max(Hauteur(filsGauche(arbre)),Hauteur(filsDroite(arbre)))"
   ]
  },
  {
   "cell_type": "code",
   "execution_count": 3,
   "id": "c198309c",
   "metadata": {},
   "outputs": [
    {
     "data": {
      "text/plain": [
       "1"
      ]
     },
     "execution_count": 3,
     "metadata": {},
     "output_type": "execute_result"
    }
   ],
   "source": [
    "arbre=[12,[1,[],[]],[3,[],[]]]\n",
    "Hauteur(arbre)"
   ]
  },
  {
   "cell_type": "code",
   "execution_count": 4,
   "id": "7aeb8e61",
   "metadata": {},
   "outputs": [],
   "source": [
    "def nombreNoeud(arbre):\n",
    "    if vide(arbre):\n",
    "        return 0\n",
    "    elif Estfeuile(arbre):\n",
    "        return 1\n",
    "    else:\n",
    "        return 1+nombreNoeud(filsGauche(arbre))+nombreNoeud(filsDroite(arbre))"
   ]
  },
  {
   "cell_type": "code",
   "execution_count": 5,
   "id": "ceb4385a",
   "metadata": {},
   "outputs": [
    {
     "data": {
      "text/plain": [
       "3"
      ]
     },
     "execution_count": 5,
     "metadata": {},
     "output_type": "execute_result"
    }
   ],
   "source": [
    "arbre=[12,[1,[],[]],[3,[],[]]]\n",
    "nombreNoeud(arbre)"
   ]
  },
  {
   "cell_type": "code",
   "execution_count": 6,
   "id": "53e0c87b",
   "metadata": {},
   "outputs": [],
   "source": [
    "def nombreFeuille(arbre):\n",
    "    if vide(arbre):\n",
    "        return 0\n",
    "    elif Estfeuile(arbre):\n",
    "        return 1\n",
    "    else:\n",
    "        return nombreFeuille(filsGauche(arbre))+nombreFeuille(filsDroite(arbre))"
   ]
  },
  {
   "cell_type": "code",
   "execution_count": 7,
   "id": "673f9a52",
   "metadata": {},
   "outputs": [
    {
     "data": {
      "text/plain": [
       "2"
      ]
     },
     "execution_count": 7,
     "metadata": {},
     "output_type": "execute_result"
    }
   ],
   "source": [
    "nombreFeuille(arbre)"
   ]
  },
  {
   "cell_type": "code",
   "execution_count": 8,
   "id": "e8bdea18",
   "metadata": {},
   "outputs": [],
   "source": [
    "def noeudInterne(arbre):\n",
    "    if vide(arbre) or Estfeuile(arbre):\n",
    "        return False\n",
    "    else:\n",
    "        return True"
   ]
  },
  {
   "cell_type": "code",
   "execution_count": 9,
   "id": "4838f6a7",
   "metadata": {},
   "outputs": [],
   "source": [
    "def nombreNeudInterne1(arbre):\n",
    "    if vide(arbre) or Estfeuile(arbre):\n",
    "        return 0\n",
    "    else:\n",
    "        return 1+nombreNeudInterne1(filsDroite(arbre))+nombreNeudInterne1(filsGauche(arbre))"
   ]
  },
  {
   "cell_type": "code",
   "execution_count": 10,
   "id": "0d7a19c7",
   "metadata": {},
   "outputs": [
    {
     "data": {
      "text/plain": [
       "3"
      ]
     },
     "execution_count": 10,
     "metadata": {},
     "output_type": "execute_result"
    }
   ],
   "source": [
    "arbre=[12,[1,[2,[],[]],[10,[],[]]],[11,[5,[],[]],[9,[],[]]]]\n",
    "nombreNeudInterne1(arbre)"
   ]
  },
  {
   "cell_type": "code",
   "execution_count": 11,
   "id": "fbbff0b6",
   "metadata": {},
   "outputs": [],
   "source": [
    "def nombreNeudInterne2(arbre):\n",
    "    return nombreNoeud(arbre)-nombreFeuille(arbre)"
   ]
  },
  {
   "cell_type": "code",
   "execution_count": 12,
   "id": "50844407",
   "metadata": {},
   "outputs": [
    {
     "data": {
      "text/plain": [
       "3"
      ]
     },
     "execution_count": 12,
     "metadata": {},
     "output_type": "execute_result"
    }
   ],
   "source": [
    "nombreNeudInterne2(arbre)"
   ]
  },
  {
   "cell_type": "code",
   "execution_count": 13,
   "id": "c6453cee",
   "metadata": {},
   "outputs": [],
   "source": [
    "def verifier(arbre,valeur):\n",
    "    if vide(arbre):\n",
    "        return False\n",
    "    elif val(arbre)==valeur:\n",
    "        return True\n",
    "    else:\n",
    "        return verifier(filsGauche(arbre),valeur) or verifier(filsDroite(arbre),valeur)"
   ]
  },
  {
   "cell_type": "code",
   "execution_count": 14,
   "id": "2e05e2df",
   "metadata": {},
   "outputs": [
    {
     "data": {
      "text/plain": [
       "True"
      ]
     },
     "execution_count": 14,
     "metadata": {},
     "output_type": "execute_result"
    }
   ],
   "source": [
    "arbre=[12,[1,[2,[],[]],[10,[],[]]],[11,[5,[],[]],[9,[],[]]]]\n",
    "verifier(arbre,1)"
   ]
  },
  {
   "cell_type": "code",
   "execution_count": 15,
   "id": "1632d042",
   "metadata": {},
   "outputs": [],
   "source": [
    "#ex2\n",
    "def calcul(a,b,c):\n",
    "    if c=='+':\n",
    "        return a+b\n",
    "    elif c=='-':\n",
    "         return a-b\n",
    "    elif c=='+':\n",
    "         return a*b\n",
    "    elif b!=0:\n",
    "         return a//b\n",
    "def ValExpression(arbre):\n",
    "    if vide(arbre):\n",
    "        return None\n",
    "    elif Estfeuile(arbre):\n",
    "        return val(arbre)\n",
    "    else:\n",
    "        return calcul(ValExpression(filsGauche(arbre)),ValExpression(filsDroite(arbre)),val(arbre))"
   ]
  },
  {
   "cell_type": "code",
   "execution_count": 16,
   "id": "92e322d4",
   "metadata": {},
   "outputs": [
    {
     "data": {
      "text/plain": [
       "-4"
      ]
     },
     "execution_count": 16,
     "metadata": {},
     "output_type": "execute_result"
    }
   ],
   "source": [
    "arbre=['+',['*',[4,[],[]],[7,[],[]]] ,['-',['+',[3,[],[]],[1,[],[]]],[8,[],[]]]]\n",
    "ValExpression(arbre)"
   ]
  },
  {
   "cell_type": "code",
   "execution_count": 17,
   "id": "7bc36d71",
   "metadata": {},
   "outputs": [],
   "source": [
    "#ex3\n",
    "def MaxArbre(arbre):\n",
    "    if vide(arbre):\n",
    "        return None\n",
    "    elif Estfeuile(arbre):\n",
    "        return val(arbre)\n",
    "    elif vide(filsGauche(arbre)):\n",
    "        return max(val(arbre),MaxArbre(filsDroite(arbre)))\n",
    "    elif vide(filsDroite(arbre)):\n",
    "        return max(val(arbre),MaxArbre(filsGauche(arbre)))\n",
    "    else:\n",
    "        return max(val(arbre),MaxArbre(filsGauche(arbre)),MaxArbre(filsDroite(arbre)))\n",
    "def MinArbre(arbre):\n",
    "    if vide(arbre):\n",
    "        return None\n",
    "    elif Estfeuile(arbre):\n",
    "        return val(arbre)\n",
    "    elif vide(filsGauche(arbre)):\n",
    "        return min(val(arbre),MinArbre(filsDroite(arbre)))\n",
    "    elif vide(filsDroite(arbre)):\n",
    "        return min(val(arbre),MinArbre(filsGauche(arbre)))\n",
    "    else:\n",
    "        return min(val(arbre),MinArbre(filsGauche(arbre)),MinArbre(filsDroite(arbre)))\n",
    "def ABR(arbre):\n",
    "    if vide(arbre):\n",
    "        return False\n",
    "    elif Estfeuile(arbre):\n",
    "        return True\n",
    "    else:\n",
    "        if vide(filsGauche(arbre)):\n",
    "            if val(arbre)<MinArbre(filsDroite(arbre)) and ABR(filsDroite(arbre)):\n",
    "                return True\n",
    "            else: \n",
    "                return False\n",
    "        elif vide(filsDroite(arbre)):\n",
    "            if val(arbre)>MaxArbre(filsGauche(arbre)) and ABR(filsGauche(arbre)):\n",
    "                return True\n",
    "            else: \n",
    "                return False\n",
    "        else:\n",
    "            if  val(arbre)<MinArbre(filsDroite(arbre)) and val(arbre)>MaxArbre(filsGauche(arbre)) and ABR(filsGauche(arbre)) and ABR(filsDroite(arbre)):\n",
    "                return True\n",
    "            else:  \n",
    "                return False\n",
    "def exsiteABR(arbre,valeur):\n",
    "    if vide(arbre):\n",
    "        return False\n",
    "    elif val(arbre)==valeur:\n",
    "        return True\n",
    "    else:\n",
    "        if valeur<val(arbre):\n",
    "            return exsiteABR(filsGauche(arbre),valeur)\n",
    "        elif valeur>val(arbre):\n",
    "            return exsiteABR(filsDroite(arbre),valeur)\n",
    "def plusGrande(arbre):\n",
    "    if vide(arbre):\n",
    "        return None\n",
    "    elif Estfeuile(arbre):\n",
    "        return val(arbre)\n",
    "    else:\n",
    "        if vide(filsDroite(arbre)):\n",
    "            return val(arbre)\n",
    "        else:\n",
    "            return MaxArbre(filsDroite(arbre))\n",
    "def plusGrandeIterative(arbre):\n",
    "    if vide(arbre):\n",
    "        return None\n",
    "    else:\n",
    "        while(not vide(filsDroite(arbre))):\n",
    "               arbre=filsDroite(arbre)\n",
    "        return val(arbre)\n",
    "def plusPetitIterative(arbre):\n",
    "    if vide(arbre):\n",
    "        return None\n",
    "    else:\n",
    "        while(not vide(filsGauche(arbre))):\n",
    "               arbre=filsGauche(arbre)\n",
    "        return val(arbre)\n",
    "\n",
    "def plusPetit(arbre):\n",
    "    if vide(arbre):\n",
    "        return None\n",
    "    elif Estfeuile(arbre):\n",
    "        return val(arbre)\n",
    "    else:\n",
    "        if vide(filsGauche(arbre)):\n",
    "            return val(arbre)\n",
    "        else:\n",
    "            return MinArbre(filsGauche(arbre))    \n",
    "def insertion(arbre,valeur):\n",
    "    if vide(arbre):\n",
    "         return arbre.extend([valeur,[],[]])\n",
    "    else:\n",
    "        if valeur<=val(arbre):\n",
    "             return insertion(filsGauche(arbre),valeur)\n",
    "        elif valeur>val(arbre):\n",
    "             return insertion(filsDroite(arbre),valeur)\n"
   ]
  },
  {
   "cell_type": "code",
   "execution_count": 18,
   "id": "f987c9df",
   "metadata": {},
   "outputs": [
    {
     "name": "stdout",
     "output_type": "stream",
     "text": [
      "23\n",
      "1\n",
      "False\n"
     ]
    }
   ],
   "source": [
    "arbre=[12,[1,[2,[],[]],[23,[],[]]],[11,[5,[],[]],[9,[],[]]]]\n",
    "print(MaxArbre(arbre))\n",
    "print(MinArbre(arbre))\n",
    "print(ABR(arbre))"
   ]
  },
  {
   "cell_type": "code",
   "execution_count": 19,
   "id": "3fc4dd1b",
   "metadata": {},
   "outputs": [
    {
     "name": "stdout",
     "output_type": "stream",
     "text": [
      "True\n",
      "False\n",
      "30\n",
      "30\n",
      "3\n",
      "3\n",
      "[10, [6, [3, [], []], [8, [7, [], []], [9, [], []]]], [25, [20, [], []], [30, [], [35, [], []]]]]\n"
     ]
    }
   ],
   "source": [
    "arbre=[10,[6,[3,[],[]],[8,[7,[],[]],[9,[],[]]]],[25,[20,[],[]],[30,[],[]]]]\n",
    "print(ABR(arbre))\n",
    "print(exsiteABR(arbre,5))\n",
    "print(plusGrande(arbre))\n",
    "print(plusGrandeIterative(arbre))\n",
    "print(plusPetit(arbre))\n",
    "print(plusPetitIterative(arbre))\n",
    "insertion(arbre,35)\n",
    "print(arbre)"
   ]
  },
  {
   "cell_type": "code",
   "execution_count": 20,
   "id": "7796eb97",
   "metadata": {},
   "outputs": [],
   "source": [
    "#les parcours:\n",
    "def parcoursPrefixe(arbre):\n",
    "    resultat=[]\n",
    "    if not vide(arbre):\n",
    "        resultat.append(val(arbre))\n",
    "        resultat.extend(parcoursInfixe(filsGauche(arbre)))\n",
    "        resultat.extend(parcoursInfixe(filsDroite(arbre)))\n",
    "    return resultat\n",
    "def parcoursInfixe(arbre):\n",
    "    resultat=[]\n",
    "    if not vide(arbre):\n",
    "        resultat.extend(parcoursInfixe(filsGauche(arbre)))\n",
    "        resultat.append(val(arbre))\n",
    "        resultat.extend(parcoursInfixe(filsDroite(arbre)))\n",
    "    return resultat\n",
    "    \n",
    "def parcoursPostfixe(arbre):\n",
    "    resultat=[]\n",
    "    if not vide(arbre):\n",
    "        resultat.extend(parcoursInfixe(filsGauche(arbre)))\n",
    "        resultat.extend(parcoursInfixe(filsDroite(arbre)))\n",
    "        resultat.append(val(arbre))\n",
    "    return resultat"
   ]
  },
  {
   "cell_type": "code",
   "execution_count": 21,
   "id": "6169ce11",
   "metadata": {},
   "outputs": [
    {
     "name": "stdout",
     "output_type": "stream",
     "text": [
      "[12, 2, 1, 23, 5, 11, 9]\n",
      "[2, 1, 23, 12, 5, 11, 9]\n",
      "[2, 1, 23, 5, 11, 9, 12]\n"
     ]
    }
   ],
   "source": [
    "arbre=[12,[1,[2,[],[]],[23,[],[]]],[11,[5,[],[]],[9,[],[]]]]\n",
    "print(parcoursPrefixe(arbre))\n",
    "print(parcoursInfixe(arbre))\n",
    "print(parcoursPostfixe(arbre))"
   ]
  },
  {
   "cell_type": "code",
   "execution_count": 22,
   "id": "f3240af2",
   "metadata": {},
   "outputs": [],
   "source": [
    "def ABR_infixe(arbre):\n",
    "    list_triee=parcoursInfixe(arbre)\n",
    "    print(list_triee)\n",
    "    if len(list_triee)==0:\n",
    "        return False\n",
    "    else:\n",
    "        for i in range(len(list_triee)-1):\n",
    "            if list_triee[i]>list_triee[i+1]:\n",
    "                return False \n",
    "        return True"
   ]
  },
  {
   "cell_type": "code",
   "execution_count": 23,
   "id": "59c7a265",
   "metadata": {},
   "outputs": [
    {
     "name": "stdout",
     "output_type": "stream",
     "text": [
      "[3, 6, 7, 8, 9, 10, 20, 25, 30]\n"
     ]
    },
    {
     "data": {
      "text/plain": [
       "True"
      ]
     },
     "execution_count": 23,
     "metadata": {},
     "output_type": "execute_result"
    }
   ],
   "source": [
    "arbre=[10,[6,[3,[],[]],[8,[7,[],[]],[9,[],[]]]],[25,[20,[],[]],[30,[],[]]]]\n",
    "ABR_infixe(arbre)"
   ]
  },
  {
   "cell_type": "code",
   "execution_count": 24,
   "id": "5235ae01",
   "metadata": {},
   "outputs": [],
   "source": [
    "#ex4\n",
    "def deleteval(arbre,valeur):\n",
    "    if not vide(arbre) and exsiteABR(arbre,valeur):\n",
    "        if valeur==val(arbre):\n",
    "            if Estfeuile(arbre):\n",
    "                  arbre.clear() #a[:]=[]\n",
    "            else:\n",
    "                if vide(filsGauche(arbre)):\n",
    "                    valeur=filsDroite(arbre)\n",
    "                    arbre[:]=valeur\n",
    "                elif vide(filsDroite(arbre)):\n",
    "                    valeur=filsGauche(arbre)\n",
    "                    arbre[:]=valeur\n",
    "                else:\n",
    "                    m=plusGrande(filsGauche(arbre))\n",
    "                    arbre[0]=m\n",
    "                    deleteval(filsGauche(arbre),m)\n",
    "            \n",
    "        elif valeur>val(arbre):\n",
    "               deleteval(filsDroite(arbre),valeur)\n",
    "            \n",
    "        else:\n",
    "              deleteval(filsGauche(arbre),valeur)\n",
    "             \n",
    "    else:\n",
    "        return None"
   ]
  },
  {
   "cell_type": "code",
   "execution_count": 25,
   "id": "a30a706b",
   "metadata": {},
   "outputs": [
    {
     "name": "stdout",
     "output_type": "stream",
     "text": [
      "[9, [6, [3, [], []], [8, [7, [], []], []]], [25, [20, [], []], [30, [], []]]]\n"
     ]
    }
   ],
   "source": [
    "arbre=[10,[6,[3,[],[]],[8,[7,[],[]],[9,[],[]]]],[25,[20,[],[]],[30,[],[]]]]\n",
    "z=deleteval(arbre,10)\n",
    "print(arbre)"
   ]
  },
  {
   "cell_type": "code",
   "execution_count": null,
   "id": "7e67bdac",
   "metadata": {},
   "outputs": [],
   "source": []
  },
  {
   "cell_type": "code",
   "execution_count": null,
   "id": "7eabda59",
   "metadata": {},
   "outputs": [],
   "source": []
  },
  {
   "cell_type": "code",
   "execution_count": null,
   "id": "5f82cbcd",
   "metadata": {},
   "outputs": [],
   "source": []
  },
  {
   "cell_type": "code",
   "execution_count": null,
   "id": "e62adb87",
   "metadata": {},
   "outputs": [],
   "source": []
  },
  {
   "cell_type": "code",
   "execution_count": null,
   "id": "636df781",
   "metadata": {},
   "outputs": [],
   "source": []
  },
  {
   "cell_type": "code",
   "execution_count": null,
   "id": "1194956f",
   "metadata": {},
   "outputs": [],
   "source": []
  },
  {
   "cell_type": "code",
   "execution_count": null,
   "id": "319daf2f",
   "metadata": {},
   "outputs": [],
   "source": []
  },
  {
   "cell_type": "code",
   "execution_count": null,
   "id": "4b4531f6",
   "metadata": {},
   "outputs": [],
   "source": []
  }
 ],
 "metadata": {
  "kernelspec": {
   "display_name": "Python 3 (ipykernel)",
   "language": "python",
   "name": "python3"
  },
  "language_info": {
   "codemirror_mode": {
    "name": "ipython",
    "version": 3
   },
   "file_extension": ".py",
   "mimetype": "text/x-python",
   "name": "python",
   "nbconvert_exporter": "python",
   "pygments_lexer": "ipython3",
   "version": "3.11.5"
  }
 },
 "nbformat": 4,
 "nbformat_minor": 5
}
