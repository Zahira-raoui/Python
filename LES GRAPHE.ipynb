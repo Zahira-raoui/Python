{
 "cells": [
  {
   "cell_type": "markdown",
   "id": "72f2516c",
   "metadata": {},
   "source": [
    "# Les graphe"
   ]
  },
  {
   "cell_type": "code",
   "execution_count": null,
   "id": "9a073908",
   "metadata": {},
   "outputs": [],
   "source": []
  },
  {
   "cell_type": "code",
   "execution_count": 30,
   "id": "70994a58",
   "metadata": {},
   "outputs": [],
   "source": [
    "import numpy as np"
   ]
  },
  {
   "cell_type": "code",
   "execution_count": 31,
   "id": "0a316edf",
   "metadata": {},
   "outputs": [],
   "source": [
    "#matrice adjascente pour graphe non oriente\n",
    "#ex2\n",
    "def MatAdj(S,A):\n",
    "    matrice=np.zeros((len(S),len(S)))\n",
    "    for i in A:\n",
    "        a,b=i\n",
    "        matrice[a][b]=1\n",
    "        matrice[b][a]=1\n",
    "    return matrice"
   ]
  },
  {
   "cell_type": "code",
   "execution_count": 32,
   "id": "c8430903",
   "metadata": {},
   "outputs": [
    {
     "data": {
      "text/plain": [
       "array([[0., 1., 1., 0., 0., 0., 0.],\n",
       "       [1., 0., 1., 0., 0., 1., 0.],\n",
       "       [1., 1., 0., 1., 1., 0., 0.],\n",
       "       [0., 0., 1., 0., 0., 0., 1.],\n",
       "       [0., 0., 1., 0., 0., 0., 1.],\n",
       "       [0., 1., 0., 0., 0., 0., 1.],\n",
       "       [0., 0., 0., 1., 1., 1., 0.]])"
      ]
     },
     "execution_count": 32,
     "metadata": {},
     "output_type": "execute_result"
    }
   ],
   "source": [
    "S=[0,1,2,3,4,5,6]\n",
    "A=[(0,1),(0,2),(1,2),(1,5),(2,3),(2,4),(3,6),(4,6),(5,6)]\n",
    "MatAdj(S,A)"
   ]
  },
  {
   "cell_type": "code",
   "execution_count": 33,
   "id": "b0857efa",
   "metadata": {},
   "outputs": [
    {
     "data": {
      "text/plain": [
       "array([1., 1., 0., 1., 1., 0., 0.])"
      ]
     },
     "execution_count": 33,
     "metadata": {},
     "output_type": "execute_result"
    }
   ],
   "source": [
    "M=MatAdj(S,A)\n",
    "M[2]"
   ]
  },
  {
   "cell_type": "code",
   "execution_count": 24,
   "id": "f4b1aeee",
   "metadata": {},
   "outputs": [],
   "source": [
    "#matrice adjascente pour graphe oriente avec des cout\n",
    "def MatAdjOrient(S,A):\n",
    "        matrice=np.full((len(S), len(S)), np.inf)\n",
    "        for i in range(len(S)):\n",
    "                matrice[i][i]=0\n",
    "        for i in A:\n",
    "                a,b,c=i\n",
    "                matrice[a][b]=c\n",
    "        return matrice    "
   ]
  },
  {
   "cell_type": "code",
   "execution_count": 25,
   "id": "387f04de",
   "metadata": {},
   "outputs": [
    {
     "data": {
      "text/plain": [
       "array([[ 0.,  3., 12., inf, inf, inf, inf],\n",
       "       [inf,  0., inf,  5., inf, 35., inf],\n",
       "       [inf, inf,  0.,  9., 15., inf, inf],\n",
       "       [inf, inf, inf,  0., 10.,  8., inf],\n",
       "       [inf, inf, inf, inf,  0., inf, 14.],\n",
       "       [inf, inf, inf, inf, inf,  0., 13.],\n",
       "       [inf, inf, inf, inf, inf, inf,  0.]])"
      ]
     },
     "execution_count": 25,
     "metadata": {},
     "output_type": "execute_result"
    }
   ],
   "source": [
    "S=[0,1,2,3,4,5,6]\n",
    "A=[(0,1,3),(0,2,12),(1,3,5),(1,5,35),(2,3,9),(2,4,15),(3,5,8),(3,4,10),(5,6,13),(4,6,14)]\n",
    "# A=[(0,1,3),(0,2,10),(1,2,4),(1,5,12),(2,3,1),(2,4,7),(3,6,9),(4,6,16),(5,6,11)]\n",
    "MatAdjOrient(S,A)"
   ]
  },
  {
   "cell_type": "code",
   "execution_count": 65,
   "id": "6a66b9df",
   "metadata": {},
   "outputs": [],
   "source": [
    "#degre d'un sommet\n",
    "def degre(s,M):\n",
    "    count=0\n",
    "    for i in M[s]:\n",
    "        if i!=0:\n",
    "            count=count+1\n",
    "    return count"
   ]
  },
  {
   "cell_type": "code",
   "execution_count": 66,
   "id": "1b04da49",
   "metadata": {},
   "outputs": [
    {
     "data": {
      "text/plain": [
       "2"
      ]
     },
     "execution_count": 66,
     "metadata": {},
     "output_type": "execute_result"
    }
   ],
   "source": [
    "S=[0,1,2,3,4,5,6]\n",
    "A=[(0,1),(0,2),(1,2),(1,5),(2,3),(2,4),(3,6),(4,6),(5,6)]\n",
    "M=MatAdj(S,A)\n",
    "degre(0,M)\n"
   ]
  },
  {
   "cell_type": "code",
   "execution_count": 9,
   "id": "bbdc07e4",
   "metadata": {},
   "outputs": [],
   "source": [
    "def eulerien(S,M):\n",
    "    for i in S:\n",
    "        d=degre(i,M)\n",
    "        if d==0 or d%2!=0:\n",
    "            return False\n",
    "    return True"
   ]
  },
  {
   "cell_type": "code",
   "execution_count": 10,
   "id": "b5050933",
   "metadata": {},
   "outputs": [
    {
     "data": {
      "text/plain": [
       "False"
      ]
     },
     "execution_count": 10,
     "metadata": {},
     "output_type": "execute_result"
    }
   ],
   "source": [
    "M=MatAdj(S,A)\n",
    "eulerien(S,M)"
   ]
  },
  {
   "cell_type": "code",
   "execution_count": 77,
   "id": "59941d15",
   "metadata": {},
   "outputs": [],
   "source": [
    "#ex3\n",
    "#parcours en largeur\n",
    "def successeursNonvisite(G,S,visite):\n",
    "    voisins=[]\n",
    "    for i in range(len(G[S])):\n",
    "        if G[S][i]!=0 and i not in visite:\n",
    "            voisins+=[i]\n",
    "    return voisins\n",
    "\n",
    "def successeur1(G,S):\n",
    "    v = []\n",
    "    for i in range(len(G[S])):\n",
    "        if G[S][i]!=0:\n",
    "            v.append(i)\n",
    "    return v\n",
    "\n",
    "def ParcourLargeur(G,depart):\n",
    "    F=[depart]\n",
    "    parcours=[]\n",
    "    while len(F)!=0:\n",
    "        S=F.pop(0)\n",
    "        parcours.append(S)\n",
    "        succ=successeursNonvisite(G,S,F+parcours)\n",
    "        F.extend(succ)\n",
    "    return parcours         "
   ]
  },
  {
   "cell_type": "code",
   "execution_count": 84,
   "id": "9c965828",
   "metadata": {},
   "outputs": [
    {
     "name": "stdout",
     "output_type": "stream",
     "text": [
      "[[0. 1. 1. 0. 0. 0. 0.]\n",
      " [1. 0. 1. 0. 0. 1. 0.]\n",
      " [1. 1. 0. 1. 1. 0. 0.]\n",
      " [0. 0. 1. 0. 0. 0. 1.]\n",
      " [0. 0. 1. 0. 0. 0. 1.]\n",
      " [0. 1. 0. 0. 0. 0. 1.]\n",
      " [0. 0. 0. 1. 1. 1. 0.]]\n"
     ]
    },
    {
     "data": {
      "text/plain": [
       "[3, 2, 6, 0, 1, 4, 5]"
      ]
     },
     "execution_count": 84,
     "metadata": {},
     "output_type": "execute_result"
    }
   ],
   "source": [
    "S=[0,1,2,3,4,5,6]\n",
    "A=[(0,1),(0,2),(1,2),(1,5),(2,3),(2,4),(3,6),(4,6),(5,6)]\n",
    "G=MatAdj(S,A)\n",
    "print(G)\n",
    "ParcourLargeur(G,3)\n",
    "# successeur1(G,2)"
   ]
  },
  {
   "cell_type": "code",
   "execution_count": 82,
   "id": "79562a46",
   "metadata": {},
   "outputs": [],
   "source": [
    "#parcours en profondeur\n",
    "def ParcoursProfondeur(G,depart):\n",
    "    p=[depart]\n",
    "    parcours=[]\n",
    "    while len(p)!=0:\n",
    "        S=p[-1]\n",
    "        succ=successeursNonvisite(G,S,p+parcours)\n",
    "        if len(succ)!=0:\n",
    "            p.append(succ[0])\n",
    "        else:\n",
    "            parcours=[p.pop(-1)]+parcours #car il est un pile pour ne pas inverser a la fin\n",
    "    return parcours"
   ]
  },
  {
   "cell_type": "code",
   "execution_count": 83,
   "id": "f2e69972",
   "metadata": {},
   "outputs": [
    {
     "data": {
      "text/plain": [
       "[3, 2, 0, 1, 5, 6, 4]"
      ]
     },
     "execution_count": 83,
     "metadata": {},
     "output_type": "execute_result"
    }
   ],
   "source": [
    "ParcoursProfondeur(G,3)"
   ]
  },
  {
   "cell_type": "code",
   "execution_count": 15,
   "id": "8f07661d",
   "metadata": {},
   "outputs": [],
   "source": [
    "#djikestra\n",
    "def IndiceMinDistance(D,NonMarque):\n",
    "    InMin=NonMarque[0]\n",
    "    for i in NonMarque[1:]:\n",
    "        if D[i]<D[InMin]:\n",
    "            InMin=i\n",
    "    return InMin\n",
    "def successurNonMarque(G,S,NonMarque):\n",
    "    x=[]\n",
    "    for i in NonMarque:\n",
    "        if G[S][i]!=np.inf:\n",
    "            x.append(i)\n",
    "    return x"
   ]
  },
  {
   "cell_type": "code",
   "execution_count": 16,
   "id": "efc964a5",
   "metadata": {},
   "outputs": [
    {
     "data": {
      "text/plain": [
       "1"
      ]
     },
     "execution_count": 16,
     "metadata": {},
     "output_type": "execute_result"
    }
   ],
   "source": [
    "D=[3,12,8,0,np.inf,16,np.inf]\n",
    "s=[1,4,5,6]\n",
    "IndiceMinDistance(D,s)"
   ]
  },
  {
   "cell_type": "code",
   "execution_count": 17,
   "id": "63513791",
   "metadata": {},
   "outputs": [
    {
     "data": {
      "text/plain": [
       "[1, 3]"
      ]
     },
     "execution_count": 17,
     "metadata": {},
     "output_type": "execute_result"
    }
   ],
   "source": [
    "# Exemple de matrice d'adjacence\n",
    "G = np.array([\n",
    "    [np.inf, 2, np.inf, 1],\n",
    "    [np.inf, np.inf, 3, np.inf],\n",
    "    [4, np.inf, np.inf, np.inf],\n",
    "    [np.inf, np.inf, np.inf, np.inf]\n",
    "])\n",
    "sommet_S = 0\n",
    "successurNonMarque(G, sommet_S, [0, 1, 2, 3])"
   ]
  },
  {
   "cell_type": "code",
   "execution_count": 18,
   "id": "50342d37",
   "metadata": {},
   "outputs": [],
   "source": [
    "#Si un nœud A a une arête dirigée vers un nœud B, alors B est un successeur de A.\n",
    "#Si un nœud B a une arête dirigée vers un nœud A, alors B est un prédécesseur de A."
   ]
  },
  {
   "cell_type": "code",
   "execution_count": 19,
   "id": "ddc69a84",
   "metadata": {},
   "outputs": [],
   "source": [
    "def Dijkstra(G,dep,arr):\n",
    "    n=len(G) #le nombre de sommets dans le graphe G\n",
    "    D=[np.inf]*n #Initialise une liste D qui représente les distances minimales \n",
    "    #actuellement connues depuis le sommet de départ (dep).\n",
    "    #Toutes les distances sont initialisées à l'infini, sauf la distance du sommet de départ à lui-même, qui est mise à zéro.\n",
    "    D[dep]=0\n",
    "    P=[dep]*n #Initialise une liste P qui stocke le prédécesseur de chaque sommet sur \n",
    "    #le chemin le plus court depuis le sommet de départ jusqu'à ce sommet.\n",
    "    Nnmarque=list(range(n))#Initialise une liste Nnmarque contenant tous les sommets du graphe.\n",
    "    #Au début,tous les sommets sont non marqués.\n",
    "    while arr in Nnmarque: # Continue tant que le sommet d'arrivée arr n'est pas marqué.\n",
    "        m=IndiceMinDistance(D,Nnmarque)#retourne l'indice du sommet ayant la plus petite distance dans la liste D.\n",
    "        Nnmarque.remove(m) #marquer le sommet m \n",
    "        sv=successurNonMarque(G,m,Nnmarque)#Obtient la liste des successeurs non marqués du sommet m\n",
    "        for k in sv: #examine chaque successeur non marqué\n",
    "            if D[k]>D[m]+G[m][k]: #Vérifie si la distance actuelle à k est plus grande que \n",
    "                #la somme de la distance actuelle à m et du poids de l'arête de m à k.\n",
    "                D[k]=D[m]+G[m][k]\n",
    "                P[k]=m\n",
    "    return D,P #les distances minimales  "
   ]
  },
  {
   "cell_type": "code",
   "execution_count": 20,
   "id": "76542f0d",
   "metadata": {},
   "outputs": [
    {
     "name": "stdout",
     "output_type": "stream",
     "text": [
      "([0, 3.0, 12.0, 8.0, 18.0, 16.0, 29.0], [0, 0, 0, 1, 3, 3, 5])\n"
     ]
    }
   ],
   "source": [
    "G = np.array([\n",
    "    [0,3,12,np.inf,np.inf,np.inf,np.inf],\n",
    "    [np.inf,0,np.inf,5,np.inf,35,np.inf],\n",
    "    [np.inf,np.inf,0,9,15,np.inf,np.inf],\n",
    "    [np.inf,np.inf,np.inf,0,10,8,np.inf],\n",
    "    [np.inf, np.inf, np.inf,np.inf,0,np.inf,14],\n",
    "    [np.inf,np.inf,np.inf,np.inf,np.inf,0,13],\n",
    "    [np.inf,np.inf,np.inf,np.inf,np.inf,np.inf,0]\n",
    "])\n",
    "depart = 0\n",
    "arrivee = 6\n",
    "resultats = Dijkstra(G, depart, arrivee)\n",
    "print(resultats)"
   ]
  },
  {
   "cell_type": "code",
   "execution_count": 21,
   "id": "e6c5de57",
   "metadata": {},
   "outputs": [],
   "source": [
    "#bellman Ford\n",
    "def predesseur(G,S):\n",
    "    l=[]\n",
    "    for i in range(len(G[S])):\n",
    "        if G[i][S]!=np.inf:\n",
    "            l.append(i)\n",
    "    return l"
   ]
  },
  {
   "cell_type": "code",
   "execution_count": 22,
   "id": "def8cc3d",
   "metadata": {},
   "outputs": [
    {
     "data": {
      "text/plain": [
       "[0, 2]"
      ]
     },
     "execution_count": 22,
     "metadata": {},
     "output_type": "execute_result"
    }
   ],
   "source": [
    "G=np.array([\n",
    "[np.inf,4,np.inf,5],\n",
    "[np.inf,np.inf,np.inf,np.inf],\n",
    "[np.inf,-10,np.inf,np.inf],\n",
    "[np.inf,np.inf,3,np.inf]])\n",
    "predesseur(G,1)"
   ]
  },
  {
   "cell_type": "code",
   "execution_count": 23,
   "id": "6f3b3c3b",
   "metadata": {},
   "outputs": [],
   "source": [
    "def predecesseur(G,S): #les colonnes représentent les predecesseurs et les lignes représentent les successeurs\n",
    "    l=[]\n",
    "    for i in range (len(G)):\n",
    "        if G[i][S]!=np.inf:\n",
    "            l.append(i)\n",
    "    return l \n",
    "\n",
    "\n",
    "def bellman_ford(G,dep): # la matrice d'adjacence pondérée G et le sommet de départ dep\n",
    "    n=len(G) #nbre de sommets\n",
    "    D=np.zeros((n,n))+np.inf #toutes les distances  à l'infini\n",
    "    #D[:,0]=0 toute les lignes de la colonne zero recoit zero\n",
    "    D[:,dep]=0 # Initialise à zéro toutes les distances minimales de la colonne correspondant au sommet de départ\n",
    "    P=[dep]*n # Initialise la liste P des prédécesseurs, avec tous les prédécesseurs initialisés au sommet de départ\n",
    "    #le predesseceur choisi pour chaque sommet\n",
    "    for lg in range (1,n): #Itération sur les lignes de la matrice D, à partir de la deuxième ligne.\n",
    "        for s in range(n):  #Itération sur chaque sommet.\n",
    "            Pr=predecesseur(G,s)  #liste des predecesseurs de s\n",
    "            for p in Pr :#p est in predecesseur de s\n",
    "                if D[lg-1,p]!=np.inf: #Vérifie si la distance minimale précédente pour le prédécesseur p est différente de l'infini.\n",
    "                    if D[lg-1,p]+G[p,s]<D[lg-1,s]: #Vérifie si une nouvelle distance minimale est trouvée en passant par le prédécesseur p\n",
    "                        D[lg:,s]=D[lg-1,p]+G[p,s]  #Met à jour les distances minimales à partir de la ligne actuelle.\n",
    "                        P[s]=p #Met à jour le prédécesseur associé à s.\n",
    "    #iteration de verification \n",
    "    for s in range(n): \n",
    "        pr=predecesseur(G,s)\n",
    "        for p in pr : \n",
    "            if D[n-1,p]!=np.inf:\n",
    "                if D[n-1,p]+G[p,s]<D[n-1,s]:\n",
    "                    return \"pas de solution , il existe un circuit absorbant !\"\n",
    "    return D[n-1],P"
   ]
  },
  {
   "cell_type": "code",
   "execution_count": 24,
   "id": "7a50b9e7",
   "metadata": {},
   "outputs": [
    {
     "data": {
      "text/plain": [
       "(array([ 0., -2.,  8.,  5.]), [0, 2, 3, 0])"
      ]
     },
     "execution_count": 24,
     "metadata": {},
     "output_type": "execute_result"
    }
   ],
   "source": [
    "bellman_ford(G,0)"
   ]
  },
  {
   "cell_type": "code",
   "execution_count": 25,
   "id": "7f41ffea",
   "metadata": {},
   "outputs": [],
   "source": [
    "#floyd_warshall\n",
    "def Floyd_Warshall(G):\n",
    "    D=G\n",
    "    for k in range(len(G)):#intermediaire\n",
    "        for i in range(len(G)):#ligne\n",
    "            for j in range(len(G)):#colonne \n",
    "                if (i==j):\n",
    "                    D[i][j]=0\n",
    "                if G[i][k]+G[k][j]<G[i][j]:\n",
    "                    D[i][j]=G[i][k]+G[k][j]\n",
    "    return D"
   ]
  },
  {
   "cell_type": "code",
   "execution_count": 26,
   "id": "80a44d41",
   "metadata": {},
   "outputs": [
    {
     "data": {
      "text/plain": [
       "array([[0., 1., 2., 4., 6., 2.],\n",
       "       [1., 0., 1., 3., 5., 1.],\n",
       "       [2., 1., 0., 4., 6., 2.],\n",
       "       [4., 3., 4., 0., 2., 2.],\n",
       "       [6., 5., 6., 2., 0., 4.],\n",
       "       [2., 1., 2., 2., 4., 0.]])"
      ]
     },
     "execution_count": 26,
     "metadata": {},
     "output_type": "execute_result"
    }
   ],
   "source": [
    "array=np.array([[np.inf,1,7,np.inf,np.inf,3],\n",
    "[1,np.inf,1,np.inf,np.inf,1],\n",
    "[7,1,np.inf,np.inf,np.inf,np.inf],\n",
    "[np.inf,np.inf,np.inf,np.inf,2,2],\n",
    "[np.inf,np.inf,np.inf,2,np.inf,5],\n",
    "[3,1,np.inf,2,5,np.inf],])\n",
    "Floyd_Warshall(array)"
   ]
  },
  {
   "cell_type": "code",
   "execution_count": 27,
   "id": "f0ccf1b0",
   "metadata": {},
   "outputs": [],
   "source": [
    "#td5\n",
    "#1\n",
    "def valeurMassique(objet):\n",
    "    l=[]\n",
    "    for i in objet.items():\n",
    "        valMassiq=i[1][1]/i[1][0]\n",
    "        l.append((round(valMassiq),i[1][0],i[1][1],i[0]))\n",
    "#     l.sort(reverse=True)\n",
    "    return l"
   ]
  },
  {
   "cell_type": "code",
   "execution_count": 28,
   "id": "5fa6d7c3",
   "metadata": {},
   "outputs": [
    {
     "data": {
      "text/plain": [
       "[(54, 13, 700, 'A'), (38, 8, 300, 'C'), (33, 12, 400, 'B'), (30, 10, 300, 'D')]"
      ]
     },
     "execution_count": 28,
     "metadata": {},
     "output_type": "execute_result"
    }
   ],
   "source": [
    "objet={'A':(13,700),'C':(8,300),'B':(12,400),'D':(10,300)}\n",
    "valeurMassique(objet)"
   ]
  },
  {
   "cell_type": "code",
   "execution_count": 29,
   "id": "8f6851f4",
   "metadata": {},
   "outputs": [],
   "source": [
    "def SacADos(objet, poids):\n",
    "    som = 0\n",
    "    l = []\n",
    "    valeurEuro=0\n",
    "    for i in objet.items():\n",
    "        som = som + i[1][0]\n",
    "        if som <= poids:\n",
    "            valeurEuro+=i[1][1]\n",
    "            l.append(i[0])\n",
    "        else:\n",
    "            break  # Sortir de la boucle si le poids maximal est dépassé\n",
    "    return (l,'Avec un cout de',valeurEuro,'Euros')"
   ]
  },
  {
   "cell_type": "code",
   "execution_count": 30,
   "id": "d4b89c9c",
   "metadata": {},
   "outputs": [
    {
     "data": {
      "text/plain": [
       "(['A', 'C'], 'Avec un cout de', 1000, 'Euros')"
      ]
     },
     "execution_count": 30,
     "metadata": {},
     "output_type": "execute_result"
    }
   ],
   "source": [
    "objet={'A':(13,700),'C':(8,300),'B':(12,400),'D':(10,300)}\n",
    "SacADos(objet,30)"
   ]
  },
  {
   "cell_type": "code",
   "execution_count": 13,
   "id": "0b6404b9",
   "metadata": {},
   "outputs": [],
   "source": [
    "def rendu(L,N):\n",
    "    rendu_monnaie=[]\n",
    "    somme=0\n",
    "    index=0\n",
    "    while somme!=N and index<len(L):\n",
    "        if somme+L[index]<=N:\n",
    "            rendu_monnaie.append(L[index])\n",
    "            somme+=L[index]\n",
    "        else:\n",
    "            index+=1\n",
    "    if somme==N:\n",
    "        return rendu_monnaie\n",
    "    else:\n",
    "        return ('pas de solution,rendu optimal egal a ',rendu_monnaie,'de somme egal a somme ',sum(rendu_monnaie))"
   ]
  },
  {
   "cell_type": "code",
   "execution_count": 14,
   "id": "8e3ed503",
   "metadata": {},
   "outputs": [
    {
     "name": "stdout",
     "output_type": "stream",
     "text": [
      "[30, 12, 6, 1]\n",
      "[25, 25, 25, 10, 1, 1]\n",
      "('pas de solution,rendu optimal egal a ', [31, 31, 31, 2, 2, 2], 'de somme egal a somme ', 99)\n"
     ]
    }
   ],
   "source": [
    "print(rendu([30, 24, 12, 6, 3, 1], 49))\n",
    "print(rendu([25, 10, 5, 1], 87))\n",
    "print(rendu([31, 22, 10, 2], 100))"
   ]
  },
  {
   "cell_type": "code",
   "execution_count": 15,
   "id": "6424a4ff",
   "metadata": {},
   "outputs": [
    {
     "name": "stdout",
     "output_type": "stream",
     "text": [
      "[30, 12, 6, 1]\n",
      "[25, 25, 25, 10, 1, 1]\n",
      "('pas de solution,rendu optimal egal a ', [31, 31, 31, 2, 2, 2], 'de somme egal a somme ', 99)\n"
     ]
    }
   ],
   "source": [
    "def rendu_monnaie(L,N):\n",
    "    list_monnaie=[]\n",
    "    reste=N\n",
    "    #verifier si tous les elements de la list est infirieur a N\n",
    "    #etape supplimetaire\n",
    "    for i in L:\n",
    "        while i<=reste:\n",
    "            list_monnaie.append(i)\n",
    "            reste=reste-i\n",
    "        if reste==0:\n",
    "                break\n",
    "    if reste==0:\n",
    "        return list_monnaie\n",
    "    else:\n",
    "        return ('pas de solution,rendu optimal egal a ',list_monnaie,'de somme egal a somme ',sum(list_monnaie))\n",
    "print(rendu_monnaie([30, 24, 12, 6, 3, 1], 49))\n",
    "print(rendu_monnaie([25, 10, 5, 1], 87))\n",
    "print(rendu_monnaie([31, 22, 10, 2], 100))"
   ]
  },
  {
   "cell_type": "code",
   "execution_count": 16,
   "id": "57356caf",
   "metadata": {},
   "outputs": [
    {
     "name": "stdout",
     "output_type": "stream",
     "text": [
      "[30, 12, 6, 1]\n",
      "('pas de solution,rendu optimal egal a ', [25, 10, 5, 1], 'de somme egal a somme ', 41)\n",
      "('pas de solution,rendu optimal egal a ', [31, 22, 10, 2], 'de somme egal a somme ', 65)\n"
     ]
    }
   ],
   "source": [
    "#2\n",
    "def rendu_monnaie(L,N):\n",
    "    list_monnaie=[]\n",
    "    som=0\n",
    "    list_initial=[]\n",
    "    #verifier si tous les elements de la list est infirieur a N\n",
    "    #etape supplimetaire\n",
    "    for i in L:\n",
    "        if i<=N:\n",
    "            list_initial.append(i)\n",
    "    \n",
    "    for i in range(len(list_initial)):\n",
    "        som+=list_initial[i]\n",
    "        if som<=N:\n",
    "            list_monnaie.append(list_initial[i])\n",
    "        else:\n",
    "            som-=list_initial[i]\n",
    "    if som==N:\n",
    "        return list_monnaie\n",
    "    else:\n",
    "        return ('pas de solution,rendu optimal egal a ',list_monnaie,'de somme egal a somme ',sum(list_monnaie))\n",
    "\n",
    "print(rendu_monnaie([30, 24, 12, 6, 3, 1], 49))\n",
    "print(rendu_monnaie([25, 10, 5, 1], 87))\n",
    "print(rendu_monnaie([31, 22, 10, 2], 100))"
   ]
  },
  {
   "cell_type": "code",
   "execution_count": 32,
   "id": "ff3b7760",
   "metadata": {},
   "outputs": [],
   "source": [
    "#location de voiture\n",
    "def tri(d,f,n):\n",
    "    for i in range(len(f)):\n",
    "        for j in range(i+1,len(f)):#pour comparer avec tous les elements restees\n",
    "            if f[j]<f[i]:\n",
    "                f[i], f[j] = f[j], f[i]\n",
    "                d[i], d[j] = d[j], d[i]\n",
    "                n[i], n[j] = n[j], n[i]\n",
    "    return n,d,f"
   ]
  },
  {
   "cell_type": "code",
   "execution_count": 33,
   "id": "3a35deef",
   "metadata": {},
   "outputs": [
    {
     "name": "stdout",
     "output_type": "stream",
     "text": [
      "[3, 1, 2, 0, 4, 6, 5, 8, 7]\n",
      "[1, 2, 4, 1, 5, 9, 8, 11, 13]\n",
      "[3, 5, 7, 8, 9, 10, 11, 14, 16]\n"
     ]
    }
   ],
   "source": [
    "n=[0,1,2,3,4,5,6,7,8]\n",
    "d=[1,2,4,1,5,8,9,13,11]\n",
    "f=[8,5,7,3,9,11,10,16,14]\n",
    "a,b,c=tri(d,f,n)\n",
    "print(a)\n",
    "print(b)\n",
    "print(c)"
   ]
  },
  {
   "cell_type": "code",
   "execution_count": 34,
   "id": "8d7a2d93",
   "metadata": {},
   "outputs": [],
   "source": [
    "def location(d,f,n):\n",
    "    n,d,f=tri(d,f,n)\n",
    "    result = [n[0]]  # La première demande est toujours incluse\n",
    "    last_end_time = f[0]\n",
    "    for i in range(1,len(f)):\n",
    "        if d[i]>last_end_time:\n",
    "            last_end_time=f[i]\n",
    "            result.append(n[i])\n",
    "            \n",
    "    return result"
   ]
  },
  {
   "cell_type": "code",
   "execution_count": 35,
   "id": "619ce8d0",
   "metadata": {},
   "outputs": [
    {
     "name": "stdout",
     "output_type": "stream",
     "text": [
      "[3, 2, 6, 8]\n"
     ]
    }
   ],
   "source": [
    "n=[0,1,2,3,4,5,6,7,8]\n",
    "d=[1,2,4,1,5,8,9,13,11]\n",
    "f=[8,5,7,3,9,11,10,16,14]\n",
    "l=location(d,f,n)\n",
    "print(l)"
   ]
  },
  {
   "cell_type": "code",
   "execution_count": 51,
   "id": "1da26c6d",
   "metadata": {},
   "outputs": [],
   "source": [
    "#empaquetage\n",
    "def empaquetage(p,c):\n",
    "    p.sort(reverse=True)\n",
    "    boites=[]\n",
    "    for poids in p:\n",
    "        placed=False\n",
    "        for boite in boites:\n",
    "            if sum(boite)+poids<=c:\n",
    "                boite.append(poids)\n",
    "                placed=True\n",
    "                break\n",
    "        if not placed:\n",
    "             boites.append([poids])#dans la premiere iteration on va executer ca   \n",
    "    return boites"
   ]
  },
  {
   "cell_type": "code",
   "execution_count": 52,
   "id": "08dff435",
   "metadata": {},
   "outputs": [
    {
     "data": {
      "text/plain": [
       "[[9, 2], [8, 3], [7, 4], [6, 5]]"
      ]
     },
     "execution_count": 52,
     "metadata": {},
     "output_type": "execute_result"
    }
   ],
   "source": [
    "p=[7, 6, 3, 4, 8, 5, 9, 2]\n",
    "c= 11\n",
    "empaquetage(p,c)"
   ]
  },
  {
   "cell_type": "code",
   "execution_count": null,
   "id": "a17a831e",
   "metadata": {},
   "outputs": [],
   "source": []
  },
  {
   "cell_type": "code",
   "execution_count": 26,
   "id": "356b2dfc",
   "metadata": {},
   "outputs": [],
   "source": [
    "def prefixe(M,S):\n",
    "    for i in range(len(S)):\n",
    "        if M==S[:i]:\n",
    "            return True\n",
    "    else:\n",
    "        return False"
   ]
  },
  {
   "cell_type": "code",
   "execution_count": 27,
   "id": "16c72120",
   "metadata": {},
   "outputs": [],
   "source": [
    "def prefix(M,S):\n",
    "    m=len(M)\n",
    "    return M==S[:m]"
   ]
  },
  {
   "cell_type": "code",
   "execution_count": 29,
   "id": "929ced97",
   "metadata": {},
   "outputs": [
    {
     "data": {
      "text/plain": [
       "True"
      ]
     },
     "execution_count": 29,
     "metadata": {},
     "output_type": "execute_result"
    }
   ],
   "source": [
    "S = \"SALADE\"\n",
    "M = \"SAL\"\n",
    "prefix(M,S)"
   ]
  },
  {
   "cell_type": "code",
   "execution_count": 32,
   "id": "a136d6a7",
   "metadata": {},
   "outputs": [],
   "source": [
    "def suf(S):\n",
    "    l = []\n",
    "    for i in range(len(S)):\n",
    "        l.append((S[i:],i))\n",
    "    return l"
   ]
  },
  {
   "cell_type": "code",
   "execution_count": 37,
   "id": "29a79318",
   "metadata": {},
   "outputs": [],
   "source": [
    "def suffixe1(S):\n",
    "    return [(i,S[i:]) for i in range(len(S))]"
   ]
  },
  {
   "cell_type": "code",
   "execution_count": 43,
   "id": "cab38791",
   "metadata": {},
   "outputs": [
    {
     "data": {
      "text/plain": [
       "[('TATCTAGCTA', 0),\n",
       " ('ATCTAGCTA', 1),\n",
       " ('TCTAGCTA', 2),\n",
       " ('CTAGCTA', 3),\n",
       " ('TAGCTA', 4),\n",
       " ('AGCTA', 5),\n",
       " ('GCTA', 6),\n",
       " ('CTA', 7),\n",
       " ('TA', 8),\n",
       " ('A', 9)]"
      ]
     },
     "execution_count": 43,
     "metadata": {},
     "output_type": "execute_result"
    }
   ],
   "source": [
    "S = \"TATCTAGCTA\"\n",
    "suf(S)"
   ]
  },
  {
   "cell_type": "code",
   "execution_count": 41,
   "id": "77a0ed7a",
   "metadata": {},
   "outputs": [],
   "source": [
    "def fusion(P,Q):\n",
    "    if P==[] or Q==[] : return P+Q\n",
    "    elif P[0][0]<Q[0][0] : return [P[0]]+fusion(P[1:],Q)\n",
    "    else: return [Q[0]]+fusion(P,Q[1:])\n",
    "\n",
    "def tri11(F):\n",
    "    n = len(F)\n",
    "    if n<=1 : return F\n",
    "    return fusion(tri(F[:n//2]),tri(F[n//2:]))"
   ]
  },
  {
   "cell_type": "code",
   "execution_count": 44,
   "id": "64ca17e0",
   "metadata": {},
   "outputs": [
    {
     "data": {
      "text/plain": [
       "[('A', 9),\n",
       " ('AGCTA', 5),\n",
       " ('ATCTAGCTA', 1),\n",
       " ('CTA', 7),\n",
       " ('CTAGCTA', 3),\n",
       " ('GCTA', 6),\n",
       " ('TA', 8),\n",
       " ('TAGCTA', 4),\n",
       " ('TATCTAGCTA', 0),\n",
       " ('TCTAGCTA', 2)]"
      ]
     },
     "execution_count": 44,
     "metadata": {},
     "output_type": "execute_result"
    }
   ],
   "source": [
    "tri11(suf(S))"
   ]
  },
  {
   "cell_type": "code",
   "execution_count": 46,
   "id": "36a02824",
   "metadata": {},
   "outputs": [
    {
     "data": {
      "text/plain": [
       "[9, 5, 1, 7, 3, 6, 8, 4, 0, 2]"
      ]
     },
     "execution_count": 46,
     "metadata": {},
     "output_type": "execute_result"
    }
   ],
   "source": [
    "def feuilles(R):\n",
    "    if (R[1]==[]): \n",
    "        return [R[0]]\n",
    "    L=[]\n",
    "    for f in R[1]:\n",
    "        L = L + feuilles(f)\n",
    "    return L\n",
    "\n",
    "L1 = [ '#', [ [ 'A', [ [ 9, [ ] ], [ 'GCTA', [ [ 5,[ ] ] ] ], [ 'TCTAGCTA', [ [ 1, [ ] ] ] ] ] ], [ 'CTA',[ [ 7, [ ] ], [ 'GCTA', [ [ 3, [ ] ] ] ] ] ], [ 'GCTA', [ [ 6, [ ] ] ] ], [ 'T', [ [ 'A', [ [ 8, [ ] ], [ 'GCTA', [ [ 4, [ ] ] ] ], [ 'TCTAGCTA', [ [ 0, [ ] ] ] ] ] ], [ 'CTAGCTA', [ [ 2, [ ] ] ] ] ] ] ] ]\n",
    "feuilles(L1)"
   ]
  },
  {
   "cell_type": "code",
   "execution_count": 52,
   "id": "51c13d0b",
   "metadata": {},
   "outputs": [
    {
     "data": {
      "text/plain": [
       "[9, 5, 1]"
      ]
     },
     "execution_count": 52,
     "metadata": {},
     "output_type": "execute_result"
    }
   ],
   "source": [
    "def recherche_arbre(M,R):\n",
    "    for f in R[1]:\n",
    "        if f[1]!=[]:\n",
    "            if prefix(M,f[0]):\n",
    "                return feuilles(f)\n",
    "            elif prefix(f[0],M):\n",
    "                n=len(f[0])\n",
    "                return recherche_arbre(M[n:],f)\n",
    "    return []\n",
    "\n",
    "M = 'A'\n",
    "L1 = [ '#', [ [ 'A', [ [ 9, [ ] ], [ 'GCTA', [ [ 5,[ ] ] ] ], [ 'TCTAGCTA', [ [ 1, [ ] ] ] ] ] ], [ 'CTA',[ [ 7, [ ] ], [ 'GCTA', [ [ 3, [ ] ] ] ] ] ], [ 'GCTA', [ [ 6, [ ] ] ] ], [ 'T', [ [ 'A', [ [ 8, [ ] ], [ 'GCTA', [ [ 4, [ ] ] ] ], [ 'TCTAGCTA', [ [ 0, [ ] ] ] ] ] ], [ 'CTAGCTA', [ [ 2, [ ] ] ] ] ] ] ] ]\n",
    "recherche_arbre(M,L1)"
   ]
  },
  {
   "cell_type": "code",
   "execution_count": 53,
   "id": "f9c2a4c9",
   "metadata": {},
   "outputs": [
    {
     "name": "stdout",
     "output_type": "stream",
     "text": [
      "La metrice: \n",
      "[[0, 0, 0, 0, 1, 0, 0, 1, 0, 0], [1, 0, 0, 0, 0, 0, 0, 0, 2, 0], [0, 0, 1, 1, 0, 1, 0, 0, 0, 3], [0, 1, 0, 0, 0, 0, 2, 0, 0, 0], [0, 0, 0, 0, 1, 0, 0, 3, 0, 0], [1, 0, 0, 0, 0, 0, 0, 0, 4, 0], [0, 2, 0, 0, 0, 0, 1, 0, 0, 0], [0, 0, 3, 1, 0, 1, 0, 0, 0, 1], [0, 0, 1, 4, 0, 1, 0, 0, 0, 1]]\n"
     ]
    }
   ],
   "source": [
    "def matrice(P,Q):\n",
    "    a,b=len(P),len(Q)\n",
    "    # M=[[0]*b for i in range(a)]\n",
    "    M = [[0 for j in range(b)] for i in range(a)]\n",
    "    for i in range(a):\n",
    "        for j in range(b):\n",
    "            if P[i]==Q[j]:\n",
    "                M[i][j]=M[i-1][j-1]+1\n",
    "    return M\n",
    "\n",
    "P = 'GCTAGCATT'\n",
    "Q = 'CATTGTAGCT'\n",
    "m = matrice(P,Q)\n",
    "print(\"La metrice: \")\n",
    "print(m)"
   ]
  }
 ],
 "metadata": {
  "kernelspec": {
   "display_name": "Python 3 (ipykernel)",
   "language": "python",
   "name": "python3"
  },
  "language_info": {
   "codemirror_mode": {
    "name": "ipython",
    "version": 3
   },
   "file_extension": ".py",
   "mimetype": "text/x-python",
   "name": "python",
   "nbconvert_exporter": "python",
   "pygments_lexer": "ipython3",
   "version": "3.12.0"
  }
 },
 "nbformat": 4,
 "nbformat_minor": 5
}
