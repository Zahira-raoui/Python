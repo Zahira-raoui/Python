{
 "cells": [
  {
   "cell_type": "markdown",
   "id": "ce88a7c6",
   "metadata": {},
   "source": [
    "# TP : L’algorithme A*"
   ]
  },
  {
   "cell_type": "code",
   "execution_count": 4,
   "id": "6e1269b4",
   "metadata": {},
   "outputs": [],
   "source": [
    "from numpy import *\n",
    "def heuristic(a, b):#fonction heuristique, distance de Manhattan\n",
    "     return abs(a[0] - b[0]) + abs(a[1] - b[1])\n",
    "    \n",
    "def distance(a, b):#distance euclidienne entre deux points\n",
    "    return ((a[0] - b[0])**2 + (a[1] - b[1])**2)**0.5\n",
    "\n",
    "def reconstruire_chemin(pred, dep, arr):#fct pour reconstituer le chemin entre les sommets \"dep\" et \"arr\"\n",
    "    actuel = arr\n",
    "    chemin = [actuel]\n",
    "    while actuel != dep:\n",
    "        actuel = pred[actuel]\n",
    "        chemin=[actuel]+chemin\n",
    "    return chemin\n",
    "\n",
    "def AEtoile(Graphe,dep,arr):\n",
    " #Affectation des coûts inf à tous les sommets à l'exception de \"dep\"\n",
    "\n",
    "    G, pred = {},{} # G utilisé pour stocker les coûts d'accès aux nœuds,Pred utilisé pour stocker les prédécesseurs de chaque nœud\n",
    "    for noeud in Graphe:\n",
    "        G[noeud]=inf#dictionnaire de stockage des coûts d'accès aux nœuds(distance déjà parcourue)\n",
    "        pred[noeud]=-1# dictionnaire de stockage des prédécesseurs de chaque noeud\n",
    "    \n",
    "    G[dep] = 0\n",
    "    filePriorite = [(0, dep)] # Initialisation de la file de priorité avec le point de départ\n",
    "    while len(filePriorite) > 0:\n",
    "        cout,noeud = filePriorite.pop(0)#pour extraire le noued et le cout\n",
    "        if noeud == arr:\n",
    "            break #sortir car on arrive a l'arrive et le chemain le plus court est atteint\n",
    "        else:\n",
    "            for voisin in Graphe[noeud]:\n",
    "                    nouveau_cout = G[noeud] + distance(noeud, voisin)  # coût accumulé + coût pour atteindre le voisin\n",
    "                    # Vérifier si le voisin n'est pas déjà dans la file ou si le nouveau coût total est inférieur à l'ancien\n",
    "                    if G[voisin] == inf or nouveau_cout < G[voisin]:\n",
    "                            G[voisin] = nouveau_cout\n",
    "                            pred[voisin] = noeud\n",
    "                            cout_total = nouveau_cout + heuristic(voisin, arr)  # coût total = coût accumulé + heuristique\n",
    "                            filePriorite.append((cout_total, voisin))\n",
    "\n",
    "    filePriorite.sort(key=lambda x: x[0]) # Trier la file en fonction du coût total\n",
    "\n",
    "    return G[arr], reconstruire_chemin(pred, dep, arr)"
   ]
  },
  {
   "cell_type": "code",
   "execution_count": 5,
   "id": "29b85189",
   "metadata": {},
   "outputs": [
    {
     "name": "stdout",
     "output_type": "stream",
     "text": [
      "(4.0, [(0, 0), (1, 0), (2, 0), (3, 0), (3, 1)])\n"
     ]
    }
   ],
   "source": [
    "Graphe={\n",
    "(0,0):[(0,1),(1,0)], (0,1):[(0,0),(0,2),(1,1)],\n",
    "(0,2):[(0,1),(0,3),(1,2)], (0,3):[(0,2)], (1,0):[(0,0),(2,0),(1,1)], \n",
    "(1,1):[(1,0),(0,1),(1,2)], (1,2):[(0,2),(1,1),(2,2)], (2,0):[(1,0),(3,0)], \n",
    "(2,2):[(1,2),(3,2)], (3,0):[(2,0),(4,0),(3,1)], (3,1):[(3,0),(3,2)],\n",
    "(3,2): [(3,1),(3,3),(2,2),(4,2)], (3,3):[(3,2),(4,3)], (4,0):[(3,0)],\n",
    "(4,2): [(3,2),(4,3)], (4,3):[(4,2),(3,3)]\n",
    "}\n",
    "dep = (0, 0)\n",
    "arr = (3, 1)\n",
    "print(AEtoile(Graphe, dep, arr))"
   ]
  },
  {
   "cell_type": "code",
   "execution_count": 6,
   "id": "b0e75a99",
   "metadata": {},
   "outputs": [
    {
     "name": "stdout",
     "output_type": "stream",
     "text": [
      "(7.0, [(0, 0), (0, 1), (0, 2), (1, 2), (2, 2), (3, 2), (3, 3), (4, 3)])\n"
     ]
    }
   ],
   "source": [
    "dep = (0, 0)\n",
    "arr = (4,3)\n",
    "print(AEtoile(Graphe, dep, arr))"
   ]
  },
  {
   "cell_type": "code",
   "execution_count": null,
   "id": "e7d99dfa",
   "metadata": {},
   "outputs": [],
   "source": []
  },
  {
   "cell_type": "code",
   "execution_count": null,
   "id": "51afcdbf",
   "metadata": {},
   "outputs": [],
   "source": []
  },
  {
   "cell_type": "code",
   "execution_count": null,
   "id": "7eefff28",
   "metadata": {},
   "outputs": [],
   "source": []
  },
  {
   "cell_type": "code",
   "execution_count": null,
   "id": "1d6b28b6",
   "metadata": {},
   "outputs": [],
   "source": []
  },
  {
   "cell_type": "code",
   "execution_count": null,
   "id": "e37d85d9",
   "metadata": {},
   "outputs": [],
   "source": []
  },
  {
   "cell_type": "code",
   "execution_count": null,
   "id": "1ccd553c",
   "metadata": {},
   "outputs": [],
   "source": []
  },
  {
   "cell_type": "code",
   "execution_count": null,
   "id": "72795454",
   "metadata": {},
   "outputs": [],
   "source": []
  }
 ],
 "metadata": {
  "kernelspec": {
   "display_name": "Python 3 (ipykernel)",
   "language": "python",
   "name": "python3"
  },
  "language_info": {
   "codemirror_mode": {
    "name": "ipython",
    "version": 3
   },
   "file_extension": ".py",
   "mimetype": "text/x-python",
   "name": "python",
   "nbconvert_exporter": "python",
   "pygments_lexer": "ipython3",
   "version": "3.11.5"
  }
 },
 "nbformat": 4,
 "nbformat_minor": 5
}
